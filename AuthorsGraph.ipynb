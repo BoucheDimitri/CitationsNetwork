{
 "cells": [
  {
   "cell_type": "code",
   "execution_count": null,
   "metadata": {
    "collapsed": true
   },
   "outputs": [],
   "source": [
    "# Data management\n",
    "import pandas as pd\n",
    "import numpy as np\n",
    "\n",
    "# Network\n",
    "import networkx as nx\n",
    "\n",
    "# Data \n",
    "import itertools\n",
    "from collections import Counter\n",
    "\n",
    "# Graphes\n",
    "import matplotlib.pyplot as plt\n",
    "%matplotlib inline\n",
    "\n",
    "# Utilitaires\n",
    "from jyquickhelper import add_notebook_menu\n",
    "import os"
   ]
  },
  {
   "cell_type": "code",
   "execution_count": null,
   "metadata": {},
   "outputs": [],
   "source": [
    "add_notebook_menu()"
   ]
  },
  {
   "cell_type": "markdown",
   "metadata": {},
   "source": [
    "# Authors Graph"
   ]
  },
  {
   "cell_type": "markdown",
   "metadata": {},
   "source": [
    "This notebook aims at structuring the co-authors data to build the related graph"
   ]
  },
  {
   "cell_type": "markdown",
   "metadata": {},
   "source": [
    "## Load dataset"
   ]
  },
  {
   "cell_type": "code",
   "execution_count": null,
   "metadata": {
    "collapsed": true
   },
   "outputs": [],
   "source": [
    "# Path to the data\n",
    "#path = \"C://Users//Dimitri//Desktop//ENSAE3A//NetworkData//Tables//\"\n",
    "path= os.path.join(os.getcwd(),\"Tables\")\n",
    "# Load the data\n",
    "attrs_nos = pd.read_csv(path + \"/attrs_nos.csv\", encoding = \"ISO-8859-1\")"
   ]
  },
  {
   "cell_type": "code",
   "execution_count": null,
   "metadata": {
    "scrolled": true
   },
   "outputs": [],
   "source": [
    "# Print the data\n",
    "attrs_nos.head()"
   ]
  },
  {
   "cell_type": "markdown",
   "metadata": {},
   "source": [
    "## Preprocess data"
   ]
  },
  {
   "cell_type": "code",
   "execution_count": null,
   "metadata": {},
   "outputs": [],
   "source": [
    "print(\"Elements of the {0} authors_nos are {1} with '{2}' as 0th element\".\\\n",
    "      format(type(attrs_nos.authors_nos), type(attrs_nos.authors_nos[0]), attrs_nos.authors_nos[0][0]))"
   ]
  },
  {
   "cell_type": "code",
   "execution_count": null,
   "metadata": {
    "collapsed": true
   },
   "outputs": [],
   "source": [
    "def str_to_list(x):\n",
    "    \"\"\"\n",
    "    Interpret strings of the form \"['int1', 'int2']\" as the list [int1, int2]\n",
    "    \n",
    "    Params:\n",
    "        x (str) : the string to interpret\n",
    "    Returns:\n",
    "        list : the output list\n",
    "    \"\"\"\n",
    "    x = x.replace(\"[\", \"\")\n",
    "    x = x.replace(\"]\", \"\")\n",
    "    splitted = x.split(\", \")\n",
    "    no_list = [int(i) for i in splitted]\n",
    "    return no_list "
   ]
  },
  {
   "cell_type": "code",
   "execution_count": null,
   "metadata": {
    "collapsed": true
   },
   "outputs": [],
   "source": [
    "# Interpret \"author_nos\" column as a list of numbers of authors\n",
    "attrs_nos[\"authors_nos\"] = attrs_nos[\"authors_nos\"].apply(str_to_list)"
   ]
  },
  {
   "cell_type": "code",
   "execution_count": null,
   "metadata": {
    "scrolled": true
   },
   "outputs": [],
   "source": [
    "attrs_nos.authors_nos.head()"
   ]
  },
  {
   "cell_type": "code",
   "execution_count": null,
   "metadata": {},
   "outputs": [],
   "source": [
    "print(\"Elements of the {0} authors_nos are now a {1} of {2}\".\\\n",
    "      format(type(attrs_nos.authors_nos), type(attrs_nos.authors_nos[0]), type(attrs_nos.authors_nos[0][0])))"
   ]
  },
  {
   "cell_type": "markdown",
   "metadata": {},
   "source": [
    "## Build the author graph"
   ]
  },
  {
   "cell_type": "markdown",
   "metadata": {},
   "source": [
    "### Edges list"
   ]
  },
  {
   "cell_type": "code",
   "execution_count": null,
   "metadata": {
    "collapsed": true
   },
   "outputs": [],
   "source": [
    "def get_edges_list(auths_nums):\n",
    "    \"\"\"\n",
    "    Get list of edges between authors from a series of list of authors \n",
    "    (each entry of the series are the authors of a given article).\n",
    "    \n",
    "    Params:\n",
    "        auths_nums (pandas.core.series.Series) : the series of list of authors\n",
    "        \n",
    "    Returns:\n",
    "        list : a list of tuples with possibly redundant tuples\n",
    "        \n",
    "    WARNING: Does not retain articles with only one author \n",
    "    \"\"\"\n",
    "    edges_list = []\n",
    "    auths_nums_reduced = auths_nums[auths_nums.apply(lambda x: len(x)) > 1]\n",
    "    for auth_list in auths_nums_reduced:\n",
    "        combinations = list(itertools.combinations(auth_list, 2))\n",
    "        edges_list += combinations\n",
    "    return edges_list         "
   ]
  },
  {
   "cell_type": "code",
   "execution_count": null,
   "metadata": {},
   "outputs": [],
   "source": [
    "# Get list of edges\n",
    "auths_nos = attrs_nos[\"authors_nos\"].copy()\n",
    "edges_list = get_edges_list(auths_nos)\n",
    "# Print it\n",
    "print(edges_list[:100])"
   ]
  },
  {
   "cell_type": "markdown",
   "metadata": {},
   "source": [
    "### Weighted edges list"
   ]
  },
  {
   "cell_type": "code",
   "execution_count": null,
   "metadata": {
    "collapsed": true
   },
   "outputs": [],
   "source": [
    "def sort_edges(edges_list):\n",
    "    \"\"\"\n",
    "    For all tuples in edges_list, put the lowest number in the first place and then sort the whole list.\n",
    "    \n",
    "    Params:\n",
    "        edges_list (list) : list of tuples representing the authors pairs\n",
    "    \n",
    "    Returns:\n",
    "        list : a list of tuples after the two sorting steps described above\n",
    "    \n",
    "    \"\"\"\n",
    "    sorted_edges_list = []\n",
    "    for edge in edges_list:\n",
    "        edge_l = list(edge)\n",
    "        edge_l.sort()\n",
    "        sorted_edges_list.append(tuple(edge_l))\n",
    "    sorted_edges_list.sort()\n",
    "    return sorted_edges_list"
   ]
  },
  {
   "cell_type": "code",
   "execution_count": null,
   "metadata": {},
   "outputs": [],
   "source": [
    "# Sort list of edges\n",
    "s_edges_list = sort_edges(edges_list)\n",
    "# Print the result\n",
    "print(s_edges_list[:100])"
   ]
  },
  {
   "cell_type": "code",
   "execution_count": null,
   "metadata": {
    "collapsed": true
   },
   "outputs": [],
   "source": [
    "def weighted_edges_list(sorted_edges_list):\n",
    "    \"\"\"\n",
    "    Convert list of authors pairs to a dict of dict to pass to the networkx.Graph constructor.\n",
    "    Count the duplicates and store them in the \"weights\" attributes of the dictionnary so that \n",
    "    an edge that appears k times in sorted_edges_list will get a weight of k in the graph.\n",
    "    \n",
    "    Params:\n",
    "        list : sorted list of tuples\n",
    "    \n",
    "    Returns:\n",
    "        dict : a dict of dict, for a given tuple (author1, author2), entry of the form :\n",
    "        {author1 : {author2: {'weight': n_collaborations(author1, author2)}}}\n",
    "    \"\"\"\n",
    "    counter_dict = dict(Counter(sorted_edges_list)) # {(auth1, auth2): #co_auth, ...}\n",
    "    nx_dict = dict()\n",
    "    for key in counter_dict.keys(): # reformat / keys= [(auth1, auth2), ...]\n",
    "        nx_dict[key[0]] = {key[1]: {'weight': counter_dict[key]}} # format for nx\n",
    "    return nx_dict"
   ]
  },
  {
   "cell_type": "code",
   "execution_count": null,
   "metadata": {},
   "outputs": [],
   "source": [
    "nx_dict = weighted_edges_list(s_edges_list)\n",
    "print({k:v for k,v in nx_dict.items() if k<100})"
   ]
  },
  {
   "cell_type": "markdown",
   "metadata": {},
   "source": [
    "### Nodes list"
   ]
  },
  {
   "cell_type": "code",
   "execution_count": null,
   "metadata": {
    "collapsed": true
   },
   "outputs": [],
   "source": [
    "def get_nodes_list(auths_nums):\n",
    "    \"\"\"\n",
    "    Get the different authors from the series of list of authors.\n",
    "    WARNING: we add non connected authors to the graph afterwards.\n",
    "    \n",
    "    Params:\n",
    "        auths_nums (pandas.core.series.Series) : the series of list of authors.\n",
    "    \n",
    "    Returns:\n",
    "        list : the list of authors.\n",
    "    \"\"\"\n",
    "    concat = []\n",
    "    for auth_list in auths_nums:\n",
    "        concat +=  auth_list\n",
    "    return list(set(concat))"
   ]
  },
  {
   "cell_type": "code",
   "execution_count": null,
   "metadata": {
    "collapsed": true
   },
   "outputs": [],
   "source": [
    "# Get nodes list\n",
    "nodes_list = get_nodes_list(auths_nos)"
   ]
  },
  {
   "cell_type": "markdown",
   "metadata": {},
   "source": [
    "### Graph"
   ]
  },
  {
   "cell_type": "code",
   "execution_count": null,
   "metadata": {
    "collapsed": true
   },
   "outputs": [],
   "source": [
    "# Create graphs only from edges\n",
    "authors_graph = nx.Graph(nx_dict)\n",
    "# Add the nodes that have no edges\n",
    "authors_graph.add_nodes_from(nodes_list)\n",
    "# Comment CV: these so-called\" dangling nodes will be excluded from PageRank"
   ]
  },
  {
   "cell_type": "code",
   "execution_count": null,
   "metadata": {},
   "outputs": [],
   "source": [
    "# Extract the adjacency matrix as a scipy sparse matrix (won't fit into the RAM as numpy matrix)\n",
    "adjacency_matrix = nx.to_scipy_sparse_matrix(authors_graph)\n",
    "# Print it\n",
    "print(adjacency_matrix[:10])"
   ]
  },
  {
   "cell_type": "markdown",
   "metadata": {},
   "source": [
    "## Stat Desc on authors"
   ]
  },
  {
   "cell_type": "code",
   "execution_count": null,
   "metadata": {
    "collapsed": true
   },
   "outputs": [],
   "source": [
    "def count_CoA(auths_nums):\n",
    "    \"\"\"\n",
    "    Get the different authors from the series of list of authors.\n",
    "    Nb: we take non connected authors into account.\n",
    "    \n",
    "    Params:\n",
    "        auths_nums (pandas.core.series.Series) : the series of list of authors.    \n",
    "    Returns:\n",
    "        Counter : author_id : nbr of authored articles\n",
    "    \"\"\"\n",
    "    concat = []\n",
    "    for auth_list in auths_nums:\n",
    "        concat +=  auth_list\n",
    "    concat.sort()\n",
    "    return Counter(concat)"
   ]
  },
  {
   "cell_type": "code",
   "execution_count": null,
   "metadata": {
    "collapsed": true
   },
   "outputs": [],
   "source": [
    "C_CoA=count_CoA(auths_nos)"
   ]
  },
  {
   "cell_type": "markdown",
   "metadata": {},
   "source": [
    "### Deciles"
   ]
  },
  {
   "cell_type": "code",
   "execution_count": null,
   "metadata": {
    "scrolled": true
   },
   "outputs": [],
   "source": [
    "for i in np.linspace(10,100,10):\n",
    "    print(str(i),\":\", np.percentile(list(C_CoA.values()),i))"
   ]
  },
  {
   "cell_type": "markdown",
   "metadata": {},
   "source": [
    "### Percentiles (90-100)"
   ]
  },
  {
   "cell_type": "code",
   "execution_count": null,
   "metadata": {},
   "outputs": [],
   "source": [
    "for i in np.linspace(90,100,11):\n",
    "    print(str(i),\":\", np.percentile(list(C_CoA.values()),i))    "
   ]
  },
  {
   "cell_type": "markdown",
   "metadata": {},
   "source": [
    "### Hist of authorship"
   ]
  },
  {
   "cell_type": "code",
   "execution_count": null,
   "metadata": {
    "scrolled": true
   },
   "outputs": [],
   "source": [
    "plt.hist(list(C_CoA.values()), bins=max(C_CoA.values()))\n",
    "plt.xlabel(\"Number of co-authored articles\")\n",
    "plt.ylabel(\"Authors\");"
   ]
  },
  {
   "cell_type": "markdown",
   "metadata": {},
   "source": [
    "### Top co-authors"
   ]
  },
  {
   "cell_type": "code",
   "execution_count": null,
   "metadata": {
    "collapsed": true
   },
   "outputs": [],
   "source": [
    "auth_coresp=pd.read_csv(path + \"/authors.csv\", encoding = \"ISO-8859-1\")"
   ]
  },
  {
   "cell_type": "code",
   "execution_count": null,
   "metadata": {},
   "outputs": [],
   "source": [
    "auth_coresp.head()"
   ]
  },
  {
   "cell_type": "code",
   "execution_count": null,
   "metadata": {
    "scrolled": true
   },
   "outputs": [],
   "source": [
    "# List authors who authored at least \"tsh\" articles\n",
    "tsh=60\n",
    "top_CoA=list({k: v for k, v in C_CoA.items() if v > tsh}.keys())\n",
    "auth_coresp.loc[top_CoA]"
   ]
  },
  {
   "cell_type": "markdown",
   "metadata": {},
   "source": [
    "### Search author"
   ]
  },
  {
   "cell_type": "code",
   "execution_count": null,
   "metadata": {
    "collapsed": true
   },
   "outputs": [],
   "source": [
    "# To look for a given author\n",
    "def search_auth(auth_name):\n",
    "    \n",
    "    resp_auth=auth_coresp.index[auth_coresp.uniformat.str.contains(auth_name)]\n",
    "    for i in resp_auth:\n",
    "        print(auth_coresp.uniformat[i],C_CoA[i])"
   ]
  },
  {
   "cell_type": "code",
   "execution_count": null,
   "metadata": {},
   "outputs": [],
   "source": [
    "search_auth(\"Friedman\")"
   ]
  },
  {
   "cell_type": "code",
   "execution_count": null,
   "metadata": {
    "collapsed": true
   },
   "outputs": [],
   "source": []
  }
 ],
 "metadata": {
  "kernelspec": {
   "display_name": "Python 3",
   "language": "python",
   "name": "python3"
  },
  "language_info": {
   "codemirror_mode": {
    "name": "ipython",
    "version": 3
   },
   "file_extension": ".py",
   "mimetype": "text/x-python",
   "name": "python",
   "nbconvert_exporter": "python",
   "pygments_lexer": "ipython3",
   "version": "3.6.1"
  }
 },
 "nbformat": 4,
 "nbformat_minor": 1
}
