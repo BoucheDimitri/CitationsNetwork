{
 "cells": [
  {
   "cell_type": "code",
   "execution_count": 31,
   "metadata": {
    "collapsed": true
   },
   "outputs": [],
   "source": [
    "# Data management\n",
    "import pandas as pd\n",
    "import numpy as np\n",
    "\n",
    "# Network\n",
    "import networkx as nx\n",
    "\n",
    "# Data \n",
    "import itertools\n",
    "from collections import Counter\n",
    "\n",
    "# Graphes\n",
    "import matplotlib.pyplot as plt\n",
    "%matplotlib inline\n",
    "\n",
    "# Utilitaires\n",
    "from jyquickhelper import add_notebook_menu\n",
    "import os"
   ]
  },
  {
   "cell_type": "code",
   "execution_count": 32,
   "metadata": {},
   "outputs": [
    {
     "data": {
      "text/html": [
       "<div id=\"my_id_menu_nb\">run previous cell, wait for 2 seconds</div>\n",
       "<script>\n",
       "function repeat_indent_string(n){\n",
       "    var a = \"\" ;\n",
       "    for ( ; n > 0 ; --n) {\n",
       "        a += \"    \";\n",
       "    }\n",
       "    return a;\n",
       "}\n",
       "var update_menu_string = function(begin, lfirst, llast, sformat, send, keep_item) {\n",
       "    var anchors = document.getElementsByClassName(\"section\");\n",
       "    if (anchors.length == 0) {\n",
       "        anchors = document.getElementsByClassName(\"text_cell_render rendered_html\");\n",
       "    }\n",
       "    var i,t;\n",
       "    var text_menu = begin;\n",
       "    var text_memo = \"<pre>\\nlength:\" + anchors.length + \"\\n\";\n",
       "    var ind = \"\";\n",
       "    var memo_level = 1;\n",
       "    var href;\n",
       "    var tags = [];\n",
       "    var main_item = 0;\n",
       "    for (i = 0; i <= llast; i++) {\n",
       "        tags.push(\"h\" + i);\n",
       "    }\n",
       "\n",
       "    for (i = 0; i < anchors.length; i++) {\n",
       "        text_memo += \"**\" + anchors[i].id + \"--\\n\";\n",
       "\n",
       "        var child = null;\n",
       "        for(t = 0; t < tags.length; t++) {\n",
       "            var r = anchors[i].getElementsByTagName(tags[t]);\n",
       "            if (r.length > 0) {\n",
       "child = r[0];\n",
       "break;\n",
       "            }\n",
       "        }\n",
       "        if (child == null){\n",
       "            text_memo += \"null\\n\";\n",
       "            continue;\n",
       "        }\n",
       "        if (anchors[i].hasAttribute(\"id\")) {\n",
       "            // when converted in RST\n",
       "            href = anchors[i].id;\n",
       "            text_memo += \"#1-\" + href;\n",
       "            // passer à child suivant (le chercher)\n",
       "        }\n",
       "        else if (child.hasAttribute(\"id\")) {\n",
       "            // in a notebook\n",
       "            href = child.id;\n",
       "            text_memo += \"#2-\" + href;\n",
       "        }\n",
       "        else {\n",
       "            text_memo += \"#3-\" + \"*\" + \"\\n\";\n",
       "            continue;\n",
       "        }\n",
       "        var title = child.textContent;\n",
       "        var level = parseInt(child.tagName.substring(1,2));\n",
       "\n",
       "        text_memo += \"--\" + level + \"?\" + lfirst + \"--\" + title + \"\\n\";\n",
       "\n",
       "        if ((level < lfirst) || (level > llast)) {\n",
       "            continue ;\n",
       "        }\n",
       "        if (title.endsWith('¶')) {\n",
       "            title = title.substring(0,title.length-1).replace(\"<\", \"&lt;\").replace(\">\", \"&gt;\").replace(\"&\", \"&amp;\")\n",
       "        }\n",
       "\n",
       "        if (title.length == 0) {\n",
       "            continue;\n",
       "        }\n",
       "\n",
       "        while (level < memo_level) {\n",
       "            text_menu += \"</ul>\\n\";\n",
       "            memo_level -= 1;\n",
       "        }\n",
       "        if (level == lfirst) {\n",
       "            main_item += 1;\n",
       "        }\n",
       "        if (keep_item != -1 && main_item != keep_item + 1) {\n",
       "            // alert(main_item + \" - \" + level + \" - \" + keep_item);\n",
       "            continue;\n",
       "        }\n",
       "        while (level > memo_level) {\n",
       "            text_menu += \"<ul>\\n\";\n",
       "            memo_level += 1;\n",
       "        }\n",
       "        text_menu += repeat_indent_string(level-2) + sformat.replace(\"__HREF__\", href).replace(\"__TITLE__\", title);\n",
       "    }\n",
       "    while (1 < memo_level) {\n",
       "        text_menu += \"</ul>\\n\";\n",
       "        memo_level -= 1;\n",
       "    }\n",
       "    text_menu += send;\n",
       "    //text_menu += \"\\n\" + text_memo;\n",
       "    return text_menu;\n",
       "};\n",
       "var update_menu = function() {\n",
       "    var sbegin = \"\";\n",
       "    var sformat = '<li><a href=\"#__HREF__\">__TITLE__</a></li>';\n",
       "    var send = \"\";\n",
       "    var keep_item = -1;\n",
       "    var text_menu = update_menu_string(sbegin, 2, 4, sformat, send, keep_item);\n",
       "    var menu = document.getElementById(\"my_id_menu_nb\");\n",
       "    menu.innerHTML=text_menu;\n",
       "};\n",
       "window.setTimeout(update_menu,2000);\n",
       "            </script>"
      ],
      "text/plain": [
       "<IPython.core.display.HTML object>"
      ]
     },
     "execution_count": 32,
     "metadata": {},
     "output_type": "execute_result"
    }
   ],
   "source": [
    "add_notebook_menu()"
   ]
  },
  {
   "cell_type": "markdown",
   "metadata": {},
   "source": [
    "# Authors Graph"
   ]
  },
  {
   "cell_type": "markdown",
   "metadata": {},
   "source": [
    "This notebook aims at structuring the co-authors data to build the related graph"
   ]
  },
  {
   "cell_type": "markdown",
   "metadata": {},
   "source": [
    "## Load dataset"
   ]
  },
  {
   "cell_type": "code",
   "execution_count": 33,
   "metadata": {
    "collapsed": true
   },
   "outputs": [],
   "source": [
    "# Path to the data\n",
    "#path = \"C://Users//Dimitri//Desktop//ENSAE3A//NetworkData//Tables//\"\n",
    "path= os.path.join(os.getcwd(),\"Tables\")\n",
    "# Load the data\n",
    "attrs_nos = pd.read_csv(path + \"/attrs_nos.csv\", encoding = \"ISO-8859-1\")"
   ]
  },
  {
   "cell_type": "code",
   "execution_count": 34,
   "metadata": {
    "scrolled": true
   },
   "outputs": [
    {
     "data": {
      "text/html": [
       "<div>\n",
       "<style scoped>\n",
       "    .dataframe tbody tr th:only-of-type {\n",
       "        vertical-align: middle;\n",
       "    }\n",
       "\n",
       "    .dataframe tbody tr th {\n",
       "        vertical-align: top;\n",
       "    }\n",
       "\n",
       "    .dataframe thead th {\n",
       "        text-align: right;\n",
       "    }\n",
       "</style>\n",
       "<table border=\"1\" class=\"dataframe\">\n",
       "  <thead>\n",
       "    <tr style=\"text-align: right;\">\n",
       "      <th></th>\n",
       "      <th>url</th>\n",
       "      <th>title</th>\n",
       "      <th>authors</th>\n",
       "      <th>date</th>\n",
       "      <th>jel_code</th>\n",
       "      <th>keywords</th>\n",
       "      <th>editor</th>\n",
       "      <th>journal</th>\n",
       "      <th>article_id</th>\n",
       "      <th>authors_list</th>\n",
       "      <th>authors_nos</th>\n",
       "    </tr>\n",
       "  </thead>\n",
       "  <tbody>\n",
       "    <tr>\n",
       "      <th>0</th>\n",
       "      <td>https://ideas.repec.org/a/oup/qjecon/v1y1886i1...</td>\n",
       "      <td>The Reaction in Political Economy</td>\n",
       "      <td>Charles F. Dunbar</td>\n",
       "      <td>1886-02-02</td>\n",
       "      <td>NaN</td>\n",
       "      <td>NaN</td>\n",
       "      <td>oup</td>\n",
       "      <td>qjecon</td>\n",
       "      <td>v1y1886i1p1-27..html</td>\n",
       "      <td>['Charles F. Dunbar']</td>\n",
       "      <td>[6160]</td>\n",
       "    </tr>\n",
       "    <tr>\n",
       "      <th>1</th>\n",
       "      <td>https://ideas.repec.org/a/oup/qjecon/v1y1886i1...</td>\n",
       "      <td>Private Monopolies and Public Rights</td>\n",
       "      <td>Arthur T. Hadley</td>\n",
       "      <td>1886-02-02</td>\n",
       "      <td>NaN</td>\n",
       "      <td>NaN</td>\n",
       "      <td>oup</td>\n",
       "      <td>qjecon</td>\n",
       "      <td>v1y1886i1p28-44..html</td>\n",
       "      <td>['Arthur T. Hadley']</td>\n",
       "      <td>[3334]</td>\n",
       "    </tr>\n",
       "    <tr>\n",
       "      <th>2</th>\n",
       "      <td>https://ideas.repec.org/a/oup/qjecon/v1y1886i1...</td>\n",
       "      <td>Silver Before Congress in 1886</td>\n",
       "      <td>S. Dana Horton</td>\n",
       "      <td>1886-02-02</td>\n",
       "      <td>NaN</td>\n",
       "      <td>NaN</td>\n",
       "      <td>oup</td>\n",
       "      <td>qjecon</td>\n",
       "      <td>v1y1886i1p45-75..html</td>\n",
       "      <td>['S. Dana Horton']</td>\n",
       "      <td>[36527]</td>\n",
       "    </tr>\n",
       "    <tr>\n",
       "      <th>3</th>\n",
       "      <td>https://ideas.repec.org/a/oup/qjecon/v1y1886i1...</td>\n",
       "      <td>The Arithmetic, Geometric, and Harmonic Means</td>\n",
       "      <td>F. Coggeshall</td>\n",
       "      <td>1886-02-02</td>\n",
       "      <td>NaN</td>\n",
       "      <td>NaN</td>\n",
       "      <td>oup</td>\n",
       "      <td>qjecon</td>\n",
       "      <td>v1y1886i1p83-86..html</td>\n",
       "      <td>['F. Coggeshall']</td>\n",
       "      <td>[11962]</td>\n",
       "    </tr>\n",
       "    <tr>\n",
       "      <th>4</th>\n",
       "      <td>https://ideas.repec.org/a/oup/qjecon/v1y1886i1...</td>\n",
       "      <td>Legislation for Labor Arbitration</td>\n",
       "      <td>H. M. Williams</td>\n",
       "      <td>1886-02-02</td>\n",
       "      <td>NaN</td>\n",
       "      <td>NaN</td>\n",
       "      <td>oup</td>\n",
       "      <td>qjecon</td>\n",
       "      <td>v1y1886i1p86-91..html</td>\n",
       "      <td>['H. M. Williams']</td>\n",
       "      <td>[15170]</td>\n",
       "    </tr>\n",
       "  </tbody>\n",
       "</table>\n",
       "</div>"
      ],
      "text/plain": [
       "                                                 url  \\\n",
       "0  https://ideas.repec.org/a/oup/qjecon/v1y1886i1...   \n",
       "1  https://ideas.repec.org/a/oup/qjecon/v1y1886i1...   \n",
       "2  https://ideas.repec.org/a/oup/qjecon/v1y1886i1...   \n",
       "3  https://ideas.repec.org/a/oup/qjecon/v1y1886i1...   \n",
       "4  https://ideas.repec.org/a/oup/qjecon/v1y1886i1...   \n",
       "\n",
       "                                           title            authors  \\\n",
       "0              The Reaction in Political Economy  Charles F. Dunbar   \n",
       "1           Private Monopolies and Public Rights   Arthur T. Hadley   \n",
       "2                 Silver Before Congress in 1886     S. Dana Horton   \n",
       "3  The Arithmetic, Geometric, and Harmonic Means      F. Coggeshall   \n",
       "4              Legislation for Labor Arbitration     H. M. Williams   \n",
       "\n",
       "         date jel_code keywords editor journal             article_id  \\\n",
       "0  1886-02-02      NaN      NaN    oup  qjecon   v1y1886i1p1-27..html   \n",
       "1  1886-02-02      NaN      NaN    oup  qjecon  v1y1886i1p28-44..html   \n",
       "2  1886-02-02      NaN      NaN    oup  qjecon  v1y1886i1p45-75..html   \n",
       "3  1886-02-02      NaN      NaN    oup  qjecon  v1y1886i1p83-86..html   \n",
       "4  1886-02-02      NaN      NaN    oup  qjecon  v1y1886i1p86-91..html   \n",
       "\n",
       "            authors_list authors_nos  \n",
       "0  ['Charles F. Dunbar']      [6160]  \n",
       "1   ['Arthur T. Hadley']      [3334]  \n",
       "2     ['S. Dana Horton']     [36527]  \n",
       "3      ['F. Coggeshall']     [11962]  \n",
       "4     ['H. M. Williams']     [15170]  "
      ]
     },
     "execution_count": 34,
     "metadata": {},
     "output_type": "execute_result"
    }
   ],
   "source": [
    "# Print the data\n",
    "attrs_nos.head()"
   ]
  },
  {
   "cell_type": "markdown",
   "metadata": {},
   "source": [
    "## Preprocess data"
   ]
  },
  {
   "cell_type": "code",
   "execution_count": 35,
   "metadata": {},
   "outputs": [
    {
     "name": "stdout",
     "output_type": "stream",
     "text": [
      "Elements of the <class 'pandas.core.series.Series'> authors_nos are <class 'str'> with '[' as 0th element\n"
     ]
    }
   ],
   "source": [
    "print(\"Elements of the {0} authors_nos are {1} with '{2}' as 0th element\".\\\n",
    "      format(type(attrs_nos.authors_nos), type(attrs_nos.authors_nos[0]), attrs_nos.authors_nos[0][0]))"
   ]
  },
  {
   "cell_type": "code",
   "execution_count": 36,
   "metadata": {
    "collapsed": true
   },
   "outputs": [],
   "source": [
    "def str_to_list(x):\n",
    "    \"\"\"\n",
    "    Interpret strings of the form \"['int1', 'int2']\" as the list [int1, int2]\n",
    "    \n",
    "    Params:\n",
    "        x (str) : the string to interpret\n",
    "    Returns:\n",
    "        list : the output list\n",
    "    \"\"\"\n",
    "    x = x.replace(\"[\", \"\")\n",
    "    x = x.replace(\"]\", \"\")\n",
    "    splitted = x.split(\", \")\n",
    "    no_list = [int(i) for i in splitted]\n",
    "    return no_list "
   ]
  },
  {
   "cell_type": "code",
   "execution_count": 37,
   "metadata": {
    "collapsed": true
   },
   "outputs": [],
   "source": [
    "# Interpret \"author_nos\" column as a list of numbers of authors\n",
    "attrs_nos[\"authors_nos\"] = attrs_nos[\"authors_nos\"].apply(str_to_list)"
   ]
  },
  {
   "cell_type": "code",
   "execution_count": 38,
   "metadata": {
    "scrolled": true
   },
   "outputs": [
    {
     "data": {
      "text/plain": [
       "0     [6160]\n",
       "1     [3334]\n",
       "2    [36527]\n",
       "3    [11962]\n",
       "4    [15170]\n",
       "Name: authors_nos, dtype: object"
      ]
     },
     "execution_count": 38,
     "metadata": {},
     "output_type": "execute_result"
    }
   ],
   "source": [
    "attrs_nos.authors_nos.head()"
   ]
  },
  {
   "cell_type": "code",
   "execution_count": 39,
   "metadata": {},
   "outputs": [
    {
     "name": "stdout",
     "output_type": "stream",
     "text": [
      "Elements of the <class 'pandas.core.series.Series'> authors_nos are now a <class 'list'> of <class 'int'>\n"
     ]
    }
   ],
   "source": [
    "print(\"Elements of the {0} authors_nos are now a {1} of {2}\".\\\n",
    "      format(type(attrs_nos.authors_nos), type(attrs_nos.authors_nos[0]), type(attrs_nos.authors_nos[0][0])))"
   ]
  },
  {
   "cell_type": "markdown",
   "metadata": {},
   "source": [
    "## Build the author graph"
   ]
  },
  {
   "cell_type": "markdown",
   "metadata": {},
   "source": [
    "### Edges list"
   ]
  },
  {
   "cell_type": "code",
   "execution_count": 40,
   "metadata": {
    "collapsed": true
   },
   "outputs": [],
   "source": [
    "def get_edges_list(auths_nums):\n",
    "    \"\"\"\n",
    "    Get list of edges between authors from a series of list of authors \n",
    "    (each entry of the series are the authors of a given article).\n",
    "    \n",
    "    Params:\n",
    "        auths_nums (pandas.core.series.Series) : the series of list of authors\n",
    "        \n",
    "    Returns:\n",
    "        list : a list of tuples with possibly redundant tuples\n",
    "        \n",
    "    WARNING: Does not retain articles with only one author \n",
    "    \"\"\"\n",
    "    edges_list = []\n",
    "    auths_nums_reduced = auths_nums[auths_nums.apply(lambda x: len(x)) > 1]\n",
    "    for auth_list in auths_nums_reduced:\n",
    "        combinations = list(itertools.combinations(auth_list, 2))\n",
    "        edges_list += combinations\n",
    "    return edges_list         "
   ]
  },
  {
   "cell_type": "code",
   "execution_count": 41,
   "metadata": {},
   "outputs": [
    {
     "name": "stdout",
     "output_type": "stream",
     "text": [
      "[(1499, 17717), (41344, 36583), (10735, 4646), (10803, 31109), (18361, 42689), (13297, 42309), (17631, 31109), (18361, 42689), (162, 31109), (162, 31109), (23621, 31109), (43065, 42145), (43065, 42055), (43065, 17596), (42145, 42055), (42145, 17596), (42055, 17596), (16068, 35902), (31109, 39650), (23176, 16343), (32779, 23940), (11896, 42074), (31109, 15103), (523, 31109), (12760, 39624), (5660, 12272), (17693, 20443), (15877, 20774), (33761, 3320), (162, 29101), (162, 29624), (29101, 29624), (11952, 15715), (13030, 10516), (13030, 198), (10516, 198), (40061, 42519), (20443, 42051), (25091, 20774), (15864, 11112), (26810, 31693), (42539, 20443), (26810, 31693), (35075, 4077), (17564, 42051), (17564, 30544), (42051, 30544), (11146, 36210), (15651, 34887), (20443, 42539), (14609, 31693), (22079, 24574), (17287, 215), (17287, 10443), (215, 10443), (6115, 11780), (22079, 24574), (14609, 31693), (6087, 42123), (39661, 30555), (42123, 6087), (30484, 27963), (10358, 13479), (11892, 34318), (38356, 20443), (20443, 6132), (5791, 42219), (6132, 12945), (13276, 17800), (18220, 26510), (18220, 26510), (42786, 33761), (13479, 22025), (10616, 1677), (34318, 27484), (3309, 42765), (5296, 42111), (6119, 14171), (27934, 22016), (34806, 42050), (13865, 18553), (17623, 29971), (6119, 14171), (10792, 20933), (34806, 42050), (39236, 39236), (8908, 25224), (5295, 24577), (7735, 33398), (1504, 11624), (42219, 28146), (42136, 167), (4300, 17972), (39634, 25759), (42213, 15742), (1504, 11624), (6355, 8444), (18509, 34446), (33428, 18387), (10403, 17809)]\n"
     ]
    }
   ],
   "source": [
    "# Get list of edges\n",
    "auths_nos = attrs_nos[\"authors_nos\"].copy()\n",
    "edges_list = get_edges_list(auths_nos)\n",
    "# Print it\n",
    "print(edges_list[:100])"
   ]
  },
  {
   "cell_type": "markdown",
   "metadata": {},
   "source": [
    "### Weighted edges list"
   ]
  },
  {
   "cell_type": "code",
   "execution_count": 42,
   "metadata": {
    "collapsed": true
   },
   "outputs": [],
   "source": [
    "def sort_edges(edges_list):\n",
    "    \"\"\"\n",
    "    For all tuples in edges_list, put the lowest number in the first place and then sort the whole list.\n",
    "    \n",
    "    Params:\n",
    "        edges_list (list) : list of tuples representing the authors pairs\n",
    "    \n",
    "    Returns:\n",
    "        list : a list of tuples after the two sorting steps described above\n",
    "    \n",
    "    \"\"\"\n",
    "    sorted_edges_list = []\n",
    "    for edge in edges_list:\n",
    "        edge_l = list(edge)\n",
    "        edge_l.sort()\n",
    "        sorted_edges_list.append(tuple(edge_l))\n",
    "    sorted_edges_list.sort()\n",
    "    return sorted_edges_list"
   ]
  },
  {
   "cell_type": "code",
   "execution_count": 43,
   "metadata": {},
   "outputs": [
    {
     "name": "stdout",
     "output_type": "stream",
     "text": [
      "[(0, 4484), (0, 21754), (0, 25342), (0, 27992), (0, 32889), (0, 32889), (0, 32889), (0, 33905), (0, 35088), (0, 35088), (1, 16507), (1, 28403), (2, 16936), (2, 17012), (2, 33047), (2, 33049), (4, 33192), (5, 16705), (5, 23907), (7, 23913), (7, 42005), (9, 39074), (10, 21450), (11, 17462), (12, 17290), (12, 17503), (13, 100), (13, 17356), (13, 29598), (14, 39549), (15, 16), (15, 167), (16, 167), (19, 13151), (20, 22408), (20, 23044), (20, 33176), (21, 2430), (21, 2430), (21, 25266), (21, 27760), (22, 5024), (22, 27162), (23, 15026), (25, 25643), (25, 36465), (27, 39656), (27, 39951), (27, 41970), (28, 36461), (29, 110), (31, 36057), (33, 1606), (34, 7898), (36, 36), (38, 36461), (41, 17291), (41, 20725), (41, 33212), (41, 33212), (43, 18224), (46, 7718), (46, 33269), (47, 30931), (48, 7710), (49, 7710), (50, 2321), (53, 38978), (54, 41985), (55, 36916), (56, 5911), (57, 33226), (58, 33244), (59, 17355), (62, 16094), (64, 1765), (64, 3822), (64, 43468), (66, 7716), (66, 34872), (67, 30538), (68, 13031), (68, 24392), (68, 35812), (68, 36373), (68, 36374), (69, 17213), (69, 17213), (70, 25246), (70, 25246), (71, 7876), (71, 25597), (72, 17280), (73, 16636), (74, 33780), (75, 25581), (78, 25044), (79, 35132), (79, 35132), (79, 35132)]\n"
     ]
    }
   ],
   "source": [
    "# Sort list of edges\n",
    "s_edges_list = sort_edges(edges_list)\n",
    "# Print the result\n",
    "print(s_edges_list[:100])"
   ]
  },
  {
   "cell_type": "code",
   "execution_count": 44,
   "metadata": {
    "collapsed": true
   },
   "outputs": [],
   "source": [
    "def weighted_edges_list(sorted_edges_list):\n",
    "    \"\"\"\n",
    "    Convert list of authors pairs to a dict of dict to pass to the networkx.Graph constructor.\n",
    "    Count the duplicates and store them in the \"weights\" attributes of the dictionnary so that \n",
    "    an edge that appears k times in sorted_edges_list will get a weight of k in the graph.\n",
    "    \n",
    "    Params:\n",
    "        list : sorted list of tuples\n",
    "    \n",
    "    Returns:\n",
    "        dict : a dict of dict, for a given tuple (author1, author2), entry of the form :\n",
    "        {author1 : {author2: {'weight': n_collaborations(author1, author2)}}}\n",
    "    \"\"\"\n",
    "    counter_dict = dict(Counter(sorted_edges_list)) # {(auth1, auth2): #co_auth, ...}\n",
    "    nx_dict = dict()\n",
    "    for key in counter_dict.keys(): # reformat / keys= [(auth1, auth2), ...]\n",
    "        nx_dict[key[0]] = {key[1]: {'weight': counter_dict[key]}} # format for nx\n",
    "    return nx_dict"
   ]
  },
  {
   "cell_type": "code",
   "execution_count": 45,
   "metadata": {},
   "outputs": [
    {
     "name": "stdout",
     "output_type": "stream",
     "text": [
      "{0: {35088: {'weight': 2}}, 1: {28403: {'weight': 1}}, 2: {33049: {'weight': 1}}, 4: {33192: {'weight': 1}}, 5: {23907: {'weight': 1}}, 7: {42005: {'weight': 1}}, 9: {39074: {'weight': 1}}, 10: {21450: {'weight': 1}}, 11: {17462: {'weight': 1}}, 12: {17503: {'weight': 1}}, 13: {29598: {'weight': 1}}, 14: {39549: {'weight': 1}}, 15: {167: {'weight': 1}}, 16: {167: {'weight': 1}}, 19: {13151: {'weight': 1}}, 20: {33176: {'weight': 1}}, 21: {27760: {'weight': 1}}, 22: {27162: {'weight': 1}}, 23: {15026: {'weight': 1}}, 25: {36465: {'weight': 1}}, 27: {41970: {'weight': 1}}, 28: {36461: {'weight': 1}}, 29: {110: {'weight': 1}}, 31: {36057: {'weight': 1}}, 33: {1606: {'weight': 1}}, 34: {7898: {'weight': 1}}, 36: {36: {'weight': 1}}, 38: {36461: {'weight': 1}}, 41: {33212: {'weight': 2}}, 43: {18224: {'weight': 1}}, 46: {33269: {'weight': 1}}, 47: {30931: {'weight': 1}}, 48: {7710: {'weight': 1}}, 49: {7710: {'weight': 1}}, 50: {2321: {'weight': 1}}, 53: {38978: {'weight': 1}}, 54: {41985: {'weight': 1}}, 55: {36916: {'weight': 1}}, 56: {5911: {'weight': 1}}, 57: {33226: {'weight': 1}}, 58: {33244: {'weight': 1}}, 59: {17355: {'weight': 1}}, 62: {16094: {'weight': 1}}, 64: {43468: {'weight': 1}}, 66: {34872: {'weight': 1}}, 67: {30538: {'weight': 1}}, 68: {36374: {'weight': 1}}, 69: {17213: {'weight': 2}}, 70: {25246: {'weight': 2}}, 71: {25597: {'weight': 1}}, 72: {17280: {'weight': 1}}, 73: {16636: {'weight': 1}}, 74: {33780: {'weight': 1}}, 75: {25581: {'weight': 1}}, 78: {25044: {'weight': 1}}, 79: {35132: {'weight': 3}}, 81: {6218: {'weight': 2}}, 83: {9092: {'weight': 1}}, 84: {13860: {'weight': 1}}, 86: {10321: {'weight': 1}}, 87: {39544: {'weight': 1}}, 88: {17100: {'weight': 1}}, 89: {39573: {'weight': 1}}, 91: {21516: {'weight': 1}}, 92: {31247: {'weight': 1}}, 95: {39569: {'weight': 1}}, 96: {35051: {'weight': 1}}, 99: {13184: {'weight': 2}}}\n"
     ]
    }
   ],
   "source": [
    "nx_dict = weighted_edges_list(s_edges_list)\n",
    "print({k:v for k,v in nx_dict.items() if k<100})"
   ]
  },
  {
   "cell_type": "markdown",
   "metadata": {},
   "source": [
    "### Nodes list"
   ]
  },
  {
   "cell_type": "code",
   "execution_count": 46,
   "metadata": {
    "collapsed": true
   },
   "outputs": [],
   "source": [
    "def get_nodes_list(auths_nums):\n",
    "    \"\"\"\n",
    "    Get the different authors from the series of list of authors.\n",
    "    WARNING: we add non connected authors to the graph afterwards.\n",
    "    \n",
    "    Params:\n",
    "        auths_nums (pandas.core.series.Series) : the series of list of authors.\n",
    "    \n",
    "    Returns:\n",
    "        list : the list of authors.\n",
    "    \"\"\"\n",
    "    concat = []\n",
    "    for auth_list in auths_nums:\n",
    "        concat +=  auth_list\n",
    "    return list(set(concat))"
   ]
  },
  {
   "cell_type": "code",
   "execution_count": 47,
   "metadata": {
    "collapsed": true
   },
   "outputs": [],
   "source": [
    "# Get nodes list\n",
    "nodes_list = get_nodes_list(auths_nos)"
   ]
  },
  {
   "cell_type": "markdown",
   "metadata": {},
   "source": [
    "### Graph"
   ]
  },
  {
   "cell_type": "code",
   "execution_count": 48,
   "metadata": {
    "collapsed": true
   },
   "outputs": [],
   "source": [
    "# Create graphs only from edges\n",
    "authors_graph = nx.Graph(nx_dict)\n",
    "# Add the nodes that have no edges\n",
    "authors_graph.add_nodes_from(nodes_list)\n",
    "# Comment CV: these so-called\" dangling nodes will be excluded from PageRank"
   ]
  },
  {
   "cell_type": "code",
   "execution_count": 49,
   "metadata": {},
   "outputs": [
    {
     "name": "stdout",
     "output_type": "stream",
     "text": [
      "  (0, 21746)\t2\n",
      "  (1, 18835)\t1\n",
      "  (2, 23756)\t1\n",
      "  (3, 23757)\t1\n",
      "  (4, 23758)\t1\n",
      "  (5, 23759)\t1\n",
      "  (6, 23760)\t1\n",
      "  (7, 14873)\t1\n",
      "  (8, 12430)\t1\n",
      "  (9, 12449)\t1\n"
     ]
    }
   ],
   "source": [
    "# Extract the adjacency matrix as a scipy sparse matrix (won't fit into the RAM as numpy matrix)\n",
    "adjacency_matrix = nx.to_scipy_sparse_matrix(authors_graph)\n",
    "# Print it\n",
    "print(adjacency_matrix[:10])"
   ]
  },
  {
   "cell_type": "markdown",
   "metadata": {},
   "source": [
    "## Stat Desc on authors"
   ]
  },
  {
   "cell_type": "code",
   "execution_count": 50,
   "metadata": {
    "collapsed": true
   },
   "outputs": [],
   "source": [
    "def count_CoA(auths_nums):\n",
    "    \"\"\"\n",
    "    Get the different authors from the series of list of authors.\n",
    "    Nb: we take non connected authors into account.\n",
    "    \n",
    "    Params:\n",
    "        auths_nums (pandas.core.series.Series) : the series of list of authors.    \n",
    "    Returns:\n",
    "        Counter : author_id : nbr of authored articles\n",
    "    \"\"\"\n",
    "    concat = []\n",
    "    for auth_list in auths_nums:\n",
    "        concat +=  auth_list\n",
    "    concat.sort()\n",
    "    return Counter(concat)"
   ]
  },
  {
   "cell_type": "code",
   "execution_count": 51,
   "metadata": {
    "collapsed": true
   },
   "outputs": [],
   "source": [
    "C_CoA=count_CoA(auths_nos)"
   ]
  },
  {
   "cell_type": "markdown",
   "metadata": {},
   "source": [
    "### Deciles"
   ]
  },
  {
   "cell_type": "code",
   "execution_count": 52,
   "metadata": {
    "scrolled": true
   },
   "outputs": [
    {
     "name": "stdout",
     "output_type": "stream",
     "text": [
      "10.0 : 1.0\n",
      "20.0 : 1.0\n",
      "30.0 : 1.0\n",
      "40.0 : 1.0\n",
      "50.0 : 1.0\n",
      "60.0 : 2.0\n",
      "70.0 : 2.0\n",
      "80.0 : 4.0\n",
      "90.0 : 7.0\n",
      "100.0 : 141.0\n"
     ]
    }
   ],
   "source": [
    "for i in np.linspace(10,100,10):\n",
    "    print(str(i),\":\", np.percentile(list(C_CoA.values()),i))"
   ]
  },
  {
   "cell_type": "markdown",
   "metadata": {},
   "source": [
    "### Percentiles (90-100)"
   ]
  },
  {
   "cell_type": "code",
   "execution_count": 53,
   "metadata": {},
   "outputs": [
    {
     "name": "stdout",
     "output_type": "stream",
     "text": [
      "90.0 : 7.0\n",
      "91.0 : 8.0\n",
      "92.0 : 8.0\n",
      "93.0 : 9.0\n",
      "94.0 : 10.0\n",
      "95.0 : 11.0\n",
      "96.0 : 13.0\n",
      "97.0 : 16.0\n",
      "98.0 : 20.0\n",
      "99.0 : 27.0\n",
      "100.0 : 141.0\n"
     ]
    }
   ],
   "source": [
    "for i in np.linspace(90,100,11):\n",
    "    print(str(i),\":\", np.percentile(list(C_CoA.values()),i))    "
   ]
  },
  {
   "cell_type": "markdown",
   "metadata": {},
   "source": [
    "### Hist of authorship"
   ]
  },
  {
   "cell_type": "code",
   "execution_count": 54,
   "metadata": {
    "scrolled": true
   },
   "outputs": [
    {
     "data": {
      "image/png": "[encoded data removed]",
      "text/plain": [
       "<matplotlib.figure.Figure at 0x11ad74828>"
      ]
     },
     "metadata": {},
     "output_type": "display_data"
    }
   ],
   "source": [
    "plt.hist(list(C_CoA.values()), bins=max(C_CoA.values()))\n",
    "plt.xlabel(\"Number of co-authored articles\")\n",
    "plt.ylabel(\"Authors\");"
   ]
  },
  {
   "cell_type": "markdown",
   "metadata": {},
   "source": [
    "### Top co-authors"
   ]
  },
  {
   "cell_type": "code",
   "execution_count": 55,
   "metadata": {
    "collapsed": true
   },
   "outputs": [],
   "source": [
    "auth_coresp=pd.read_csv(path + \"/authors.csv\", encoding = \"ISO-8859-1\")"
   ]
  },
  {
   "cell_type": "code",
   "execution_count": 56,
   "metadata": {},
   "outputs": [
    {
     "data": {
      "text/html": [
       "<div>\n",
       "<style scoped>\n",
       "    .dataframe tbody tr th:only-of-type {\n",
       "        vertical-align: middle;\n",
       "    }\n",
       "\n",
       "    .dataframe tbody tr th {\n",
       "        vertical-align: top;\n",
       "    }\n",
       "\n",
       "    .dataframe thead th {\n",
       "        text-align: right;\n",
       "    }\n",
       "</style>\n",
       "<table border=\"1\" class=\"dataframe\">\n",
       "  <thead>\n",
       "    <tr style=\"text-align: right;\">\n",
       "      <th></th>\n",
       "      <th>original</th>\n",
       "      <th>uniformat</th>\n",
       "      <th>equivalent</th>\n",
       "    </tr>\n",
       "  </thead>\n",
       "  <tbody>\n",
       "    <tr>\n",
       "      <th>0</th>\n",
       "      <td>&amp;Lubos Pástor</td>\n",
       "      <td>&amp;Lubos Pástor</td>\n",
       "      <td>['&amp;Lubos Pástor', 'Lubos Pástor']</td>\n",
       "    </tr>\n",
       "    <tr>\n",
       "      <th>1</th>\n",
       "      <td>Hao, (Grace) Qing</td>\n",
       "      <td>(Grace) Qing Hao</td>\n",
       "      <td>['Hao, (Grace) Qing']</td>\n",
       "    </tr>\n",
       "    <tr>\n",
       "      <th>2</th>\n",
       "      <td>1816-1906</td>\n",
       "      <td>1816-1906</td>\n",
       "      <td>['1816-1906']</td>\n",
       "    </tr>\n",
       "    <tr>\n",
       "      <th>3</th>\n",
       "      <td>Kalay, A</td>\n",
       "      <td>A  Kalay</td>\n",
       "      <td>['Kalay, A']</td>\n",
       "    </tr>\n",
       "    <tr>\n",
       "      <th>4</th>\n",
       "      <td>Auquier, A A</td>\n",
       "      <td>A A Auquier</td>\n",
       "      <td>['Auquier, A A']</td>\n",
       "    </tr>\n",
       "  </tbody>\n",
       "</table>\n",
       "</div>"
      ],
      "text/plain": [
       "            original         uniformat                         equivalent\n",
       "0      &Lubos Pástor     &Lubos Pástor  ['&Lubos Pástor', 'Lubos Pástor']\n",
       "1  Hao, (Grace) Qing  (Grace) Qing Hao              ['Hao, (Grace) Qing']\n",
       "2          1816-1906         1816-1906                      ['1816-1906']\n",
       "3           Kalay, A          A  Kalay                       ['Kalay, A']\n",
       "4       Auquier, A A       A A Auquier                   ['Auquier, A A']"
      ]
     },
     "execution_count": 56,
     "metadata": {},
     "output_type": "execute_result"
    }
   ],
   "source": [
    "auth_coresp.head()"
   ]
  },
  {
   "cell_type": "code",
   "execution_count": 57,
   "metadata": {
    "scrolled": true
   },
   "outputs": [
    {
     "data": {
      "text/html": [
       "<div>\n",
       "<style scoped>\n",
       "    .dataframe tbody tr th:only-of-type {\n",
       "        vertical-align: middle;\n",
       "    }\n",
       "\n",
       "    .dataframe tbody tr th {\n",
       "        vertical-align: top;\n",
       "    }\n",
       "\n",
       "    .dataframe thead th {\n",
       "        text-align: right;\n",
       "    }\n",
       "</style>\n",
       "<table border=\"1\" class=\"dataframe\">\n",
       "  <thead>\n",
       "    <tr style=\"text-align: right;\">\n",
       "      <th></th>\n",
       "      <th>original</th>\n",
       "      <th>uniformat</th>\n",
       "      <th>equivalent</th>\n",
       "    </tr>\n",
       "  </thead>\n",
       "  <tbody>\n",
       "    <tr>\n",
       "      <th>908</th>\n",
       "      <td>Alan J. Auerbach</td>\n",
       "      <td>Alan J. Auerbach</td>\n",
       "      <td>['Alan J. Auerbach', 'Auerbach, Alan J', 'Auer...</td>\n",
       "    </tr>\n",
       "    <tr>\n",
       "      <th>1061</th>\n",
       "      <td>Alberto Alesina</td>\n",
       "      <td>Alberto Alesina</td>\n",
       "      <td>['Alberto Alesina', 'Aleberto Alesina', 'Alesi...</td>\n",
       "    </tr>\n",
       "    <tr>\n",
       "      <th>1629</th>\n",
       "      <td>Meltzer, Allan H.</td>\n",
       "      <td>Allan H. Meltzer</td>\n",
       "      <td>['Meltzer, Allan H.', 'Allan H. Meltzer', 'Mel...</td>\n",
       "    </tr>\n",
       "    <tr>\n",
       "      <th>1740</th>\n",
       "      <td>Alvin E. Roth</td>\n",
       "      <td>Alvin E. Roth</td>\n",
       "      <td>['Alvin E. Roth', 'AlvinE. Roth', 'Roth, Alvin...</td>\n",
       "    </tr>\n",
       "    <tr>\n",
       "      <th>2217</th>\n",
       "      <td>Shleifer, Andrei</td>\n",
       "      <td>Andrei  Shleifer</td>\n",
       "      <td>['Shleifer, Andrei', 'Andrei Shleifer', 'Shlei...</td>\n",
       "    </tr>\n",
       "    <tr>\n",
       "      <th>3472</th>\n",
       "      <td>Razin, Assaf</td>\n",
       "      <td>Assaf Razin</td>\n",
       "      <td>['Razin, Assaf', 'Assaf Razin']</td>\n",
       "    </tr>\n",
       "    <tr>\n",
       "      <th>7345</th>\n",
       "      <td>Smith, Clifford JR.</td>\n",
       "      <td>Clifford JR. Smith</td>\n",
       "      <td>['Smith, Clifford JR.', 'Smith, Clifford Jr.']</td>\n",
       "    </tr>\n",
       "    <tr>\n",
       "      <th>8383</th>\n",
       "      <td>Daron Acemoglu</td>\n",
       "      <td>Daron Acemoglu</td>\n",
       "      <td>['Daron Acemoglu', 'Acemoglu, Daron']</td>\n",
       "    </tr>\n",
       "    <tr>\n",
       "      <th>8578</th>\n",
       "      <td>David Card</td>\n",
       "      <td>David Card</td>\n",
       "      <td>['David Card', 'Card, David']</td>\n",
       "    </tr>\n",
       "    <tr>\n",
       "      <th>9322</th>\n",
       "      <td>Ray, Debraj</td>\n",
       "      <td>Debraj Ray</td>\n",
       "      <td>['Ray, Debraj', 'Debraj Ray']</td>\n",
       "    </tr>\n",
       "    <tr>\n",
       "      <th>10215</th>\n",
       "      <td>Drew Fudenberg</td>\n",
       "      <td>Drew Fudenberg</td>\n",
       "      <td>['Drew Fudenberg', 'Fudenberg, Drew']</td>\n",
       "    </tr>\n",
       "    <tr>\n",
       "      <th>10879</th>\n",
       "      <td>Helpman, Elahanan</td>\n",
       "      <td>Elahanan Helpman</td>\n",
       "      <td>['Helpman, Elahanan', 'Elhanan Helpman', 'Help...</td>\n",
       "    </tr>\n",
       "    <tr>\n",
       "      <th>11769</th>\n",
       "      <td>Fama, Eugene F</td>\n",
       "      <td>Eugene F Fama</td>\n",
       "      <td>['Fama, Eugene F', 'Fama, Eugene F', 'Eugene F...</td>\n",
       "    </tr>\n",
       "    <tr>\n",
       "      <th>13650</th>\n",
       "      <td>Gene M. Grossman</td>\n",
       "      <td>Gene M. Grossman</td>\n",
       "      <td>['Gene M. Grossman', 'Grossman, Gene M.', 'Gro...</td>\n",
       "    </tr>\n",
       "    <tr>\n",
       "      <th>18431</th>\n",
       "      <td>James J. Heckman</td>\n",
       "      <td>James J. Heckman</td>\n",
       "      <td>['James J. Heckman', 'Heckman, James J', 'Heck...</td>\n",
       "    </tr>\n",
       "    <tr>\n",
       "      <th>18492</th>\n",
       "      <td>Poterba, James M</td>\n",
       "      <td>James M  Poterba</td>\n",
       "      <td>['Poterba, James M', 'Poterba, James M', 'Jame...</td>\n",
       "    </tr>\n",
       "    <tr>\n",
       "      <th>19171</th>\n",
       "      <td>Laffont, Jean-Jacques M</td>\n",
       "      <td>Jean-Jacques M Laffont</td>\n",
       "      <td>['Laffont, Jean-Jacques M', 'Laffont, Jean-Jac...</td>\n",
       "    </tr>\n",
       "    <tr>\n",
       "      <th>20663</th>\n",
       "      <td>Siegfried, John J, et al</td>\n",
       "      <td>John J Siegfried</td>\n",
       "      <td>['Siegfried, John J, et al', 'Siegfried, John ...</td>\n",
       "    </tr>\n",
       "    <tr>\n",
       "      <th>21588</th>\n",
       "      <td>Stiglitz, Joseph E.</td>\n",
       "      <td>Joseph E. Stiglitz</td>\n",
       "      <td>['Stiglitz, Joseph E.', 'Joseph E. Stiglitz', ...</td>\n",
       "    </tr>\n",
       "    <tr>\n",
       "      <th>24395</th>\n",
       "      <td>Lawrence H. Summers</td>\n",
       "      <td>Lawrence H. Summers</td>\n",
       "      <td>['Lawrence H. Summers', 'Summers, Lawrence H.'...</td>\n",
       "    </tr>\n",
       "    <tr>\n",
       "      <th>27018</th>\n",
       "      <td>Mark R. Rosenzweig</td>\n",
       "      <td>Mark R. Rosenzweig</td>\n",
       "      <td>['Mark R. Rosenzweig', 'Rosenzweig, Mark R.', ...</td>\n",
       "    </tr>\n",
       "    <tr>\n",
       "      <th>27261</th>\n",
       "      <td>Feldstein, Martin</td>\n",
       "      <td>Martin Feldstein</td>\n",
       "      <td>['Feldstein, Martin', 'Feldstein, Martin', 'Ma...</td>\n",
       "    </tr>\n",
       "    <tr>\n",
       "      <th>28267</th>\n",
       "      <td>Jensen, Michael C</td>\n",
       "      <td>Michael C  Jensen</td>\n",
       "      <td>['Jensen, Michael C', 'Michael C. Jensen', 'Je...</td>\n",
       "    </tr>\n",
       "    <tr>\n",
       "      <th>31109</th>\n",
       "      <td>P. W. Taussig</td>\n",
       "      <td>P. W. Taussig</td>\n",
       "      <td>['P. W. Taussig', 'F. W. Taussig']</td>\n",
       "    </tr>\n",
       "    <tr>\n",
       "      <th>31567</th>\n",
       "      <td>Samuelson, Paul A</td>\n",
       "      <td>Paul A Samuelson</td>\n",
       "      <td>['Samuelson, Paul A', 'Samuelson, Paul A.', 'P...</td>\n",
       "    </tr>\n",
       "    <tr>\n",
       "      <th>32451</th>\n",
       "      <td>Schmidt, Peter</td>\n",
       "      <td>Peter Schmidt</td>\n",
       "      <td>['Schmidt, Peter', 'Peter Schmidt']</td>\n",
       "    </tr>\n",
       "    <tr>\n",
       "      <th>32690</th>\n",
       "      <td>Aghion, Philippe</td>\n",
       "      <td>Philippe Aghion</td>\n",
       "      <td>['Aghion, Philippe', 'Philippe Aghion']</td>\n",
       "    </tr>\n",
       "    <tr>\n",
       "      <th>34363</th>\n",
       "      <td>Blundell, Richard, et al</td>\n",
       "      <td>Richard Blundell</td>\n",
       "      <td>['Blundell, Richard, et al', 'Richard Blundell...</td>\n",
       "    </tr>\n",
       "    <tr>\n",
       "      <th>35015</th>\n",
       "      <td>Hall, Robert E</td>\n",
       "      <td>Robert E Hall</td>\n",
       "      <td>['Hall, Robert E', 'Hall, Robert E.', 'Robert ...</td>\n",
       "    </tr>\n",
       "    <tr>\n",
       "      <th>35188</th>\n",
       "      <td>Gordon, Robert J</td>\n",
       "      <td>Robert J Gordon</td>\n",
       "      <td>['Gordon, Robert J', 'Gordon, Robert J.', 'Rob...</td>\n",
       "    </tr>\n",
       "    <tr>\n",
       "      <th>35202</th>\n",
       "      <td>Robert J. Barro</td>\n",
       "      <td>Robert J. Barro</td>\n",
       "      <td>['Robert J. Barro', 'Barro, Robert J.', 'Barro...</td>\n",
       "    </tr>\n",
       "    <tr>\n",
       "      <th>38333</th>\n",
       "      <td>Stanley Fischer</td>\n",
       "      <td>Stanley Fischer</td>\n",
       "      <td>['Stanley Fischer', 'Fischer, Stanley']</td>\n",
       "    </tr>\n",
       "    <tr>\n",
       "      <th>38602</th>\n",
       "      <td>Ross, Stephen A.</td>\n",
       "      <td>Stephen A. Ross</td>\n",
       "      <td>['Ross, Stephen A.', 'Stephen A. Ross', 'Ross,...</td>\n",
       "    </tr>\n",
       "    <tr>\n",
       "      <th>38704</th>\n",
       "      <td>Turnovsky, Stephen J</td>\n",
       "      <td>Stephen J Turnovsky</td>\n",
       "      <td>['Turnovsky, Stephen J', 'Turnovsky, Stephen J...</td>\n",
       "    </tr>\n",
       "    <tr>\n",
       "      <th>40043</th>\n",
       "      <td>The Editors</td>\n",
       "      <td>The Editors</td>\n",
       "      <td>['The Editors']</td>\n",
       "    </tr>\n",
       "    <tr>\n",
       "      <th>40352</th>\n",
       "      <td>Thomas J. Sargent</td>\n",
       "      <td>Thomas J. Sargent</td>\n",
       "      <td>['Thomas J. Sargent', 'Sargent, Thomas J.', 'S...</td>\n",
       "    </tr>\n",
       "  </tbody>\n",
       "</table>\n",
       "</div>"
      ],
      "text/plain": [
       "                       original               uniformat  \\\n",
       "908            Alan J. Auerbach        Alan J. Auerbach   \n",
       "1061            Alberto Alesina         Alberto Alesina   \n",
       "1629          Meltzer, Allan H.        Allan H. Meltzer   \n",
       "1740              Alvin E. Roth           Alvin E. Roth   \n",
       "2217           Shleifer, Andrei        Andrei  Shleifer   \n",
       "3472               Razin, Assaf             Assaf Razin   \n",
       "7345        Smith, Clifford JR.      Clifford JR. Smith   \n",
       "8383             Daron Acemoglu          Daron Acemoglu   \n",
       "8578                 David Card              David Card   \n",
       "9322                Ray, Debraj              Debraj Ray   \n",
       "10215            Drew Fudenberg          Drew Fudenberg   \n",
       "10879         Helpman, Elahanan        Elahanan Helpman   \n",
       "11769            Fama, Eugene F           Eugene F Fama   \n",
       "13650          Gene M. Grossman        Gene M. Grossman   \n",
       "18431          James J. Heckman        James J. Heckman   \n",
       "18492          Poterba, James M        James M  Poterba   \n",
       "19171   Laffont, Jean-Jacques M  Jean-Jacques M Laffont   \n",
       "20663  Siegfried, John J, et al        John J Siegfried   \n",
       "21588       Stiglitz, Joseph E.      Joseph E. Stiglitz   \n",
       "24395       Lawrence H. Summers     Lawrence H. Summers   \n",
       "27018        Mark R. Rosenzweig      Mark R. Rosenzweig   \n",
       "27261         Feldstein, Martin        Martin Feldstein   \n",
       "28267         Jensen, Michael C       Michael C  Jensen   \n",
       "31109             P. W. Taussig           P. W. Taussig   \n",
       "31567         Samuelson, Paul A        Paul A Samuelson   \n",
       "32451            Schmidt, Peter           Peter Schmidt   \n",
       "32690          Aghion, Philippe         Philippe Aghion   \n",
       "34363  Blundell, Richard, et al        Richard Blundell   \n",
       "35015            Hall, Robert E           Robert E Hall   \n",
       "35188          Gordon, Robert J         Robert J Gordon   \n",
       "35202           Robert J. Barro         Robert J. Barro   \n",
       "38333           Stanley Fischer         Stanley Fischer   \n",
       "38602          Ross, Stephen A.         Stephen A. Ross   \n",
       "38704      Turnovsky, Stephen J     Stephen J Turnovsky   \n",
       "40043               The Editors             The Editors   \n",
       "40352         Thomas J. Sargent       Thomas J. Sargent   \n",
       "\n",
       "                                              equivalent  \n",
       "908    ['Alan J. Auerbach', 'Auerbach, Alan J', 'Auer...  \n",
       "1061   ['Alberto Alesina', 'Aleberto Alesina', 'Alesi...  \n",
       "1629   ['Meltzer, Allan H.', 'Allan H. Meltzer', 'Mel...  \n",
       "1740   ['Alvin E. Roth', 'AlvinE. Roth', 'Roth, Alvin...  \n",
       "2217   ['Shleifer, Andrei', 'Andrei Shleifer', 'Shlei...  \n",
       "3472                     ['Razin, Assaf', 'Assaf Razin']  \n",
       "7345      ['Smith, Clifford JR.', 'Smith, Clifford Jr.']  \n",
       "8383               ['Daron Acemoglu', 'Acemoglu, Daron']  \n",
       "8578                       ['David Card', 'Card, David']  \n",
       "9322                       ['Ray, Debraj', 'Debraj Ray']  \n",
       "10215              ['Drew Fudenberg', 'Fudenberg, Drew']  \n",
       "10879  ['Helpman, Elahanan', 'Elhanan Helpman', 'Help...  \n",
       "11769  ['Fama, Eugene F', 'Fama, Eugene F', 'Eugene F...  \n",
       "13650  ['Gene M. Grossman', 'Grossman, Gene M.', 'Gro...  \n",
       "18431  ['James J. Heckman', 'Heckman, James J', 'Heck...  \n",
       "18492  ['Poterba, James M', 'Poterba, James M', 'Jame...  \n",
       "19171  ['Laffont, Jean-Jacques M', 'Laffont, Jean-Jac...  \n",
       "20663  ['Siegfried, John J, et al', 'Siegfried, John ...  \n",
       "21588  ['Stiglitz, Joseph E.', 'Joseph E. Stiglitz', ...  \n",
       "24395  ['Lawrence H. Summers', 'Summers, Lawrence H.'...  \n",
       "27018  ['Mark R. Rosenzweig', 'Rosenzweig, Mark R.', ...  \n",
       "27261  ['Feldstein, Martin', 'Feldstein, Martin', 'Ma...  \n",
       "28267  ['Jensen, Michael C', 'Michael C. Jensen', 'Je...  \n",
       "31109                 ['P. W. Taussig', 'F. W. Taussig']  \n",
       "31567  ['Samuelson, Paul A', 'Samuelson, Paul A.', 'P...  \n",
       "32451                ['Schmidt, Peter', 'Peter Schmidt']  \n",
       "32690            ['Aghion, Philippe', 'Philippe Aghion']  \n",
       "34363  ['Blundell, Richard, et al', 'Richard Blundell...  \n",
       "35015  ['Hall, Robert E', 'Hall, Robert E.', 'Robert ...  \n",
       "35188  ['Gordon, Robert J', 'Gordon, Robert J.', 'Rob...  \n",
       "35202  ['Robert J. Barro', 'Barro, Robert J.', 'Barro...  \n",
       "38333            ['Stanley Fischer', 'Fischer, Stanley']  \n",
       "38602  ['Ross, Stephen A.', 'Stephen A. Ross', 'Ross,...  \n",
       "38704  ['Turnovsky, Stephen J', 'Turnovsky, Stephen J...  \n",
       "40043                                    ['The Editors']  \n",
       "40352  ['Thomas J. Sargent', 'Sargent, Thomas J.', 'S...  "
      ]
     },
     "execution_count": 57,
     "metadata": {},
     "output_type": "execute_result"
    }
   ],
   "source": [
    "# List authors who authored at least \"tsh\" articles\n",
    "tsh=60\n",
    "top_CoA=list({k: v for k, v in C_CoA.items() if v > tsh}.keys())\n",
    "auth_coresp.loc[top_CoA]"
   ]
  },
  {
   "cell_type": "markdown",
   "metadata": {},
   "source": [
    "### Search author"
   ]
  },
  {
   "cell_type": "code",
   "execution_count": 58,
   "metadata": {
    "collapsed": true
   },
   "outputs": [],
   "source": [
    "# To look for a given author\n",
    "def search_auth(auth_name):\n",
    "    \n",
    "    resp_auth=auth_coresp.index[auth_coresp.uniformat.str.contains(auth_name)]\n",
    "    for i in resp_auth:\n",
    "        print(auth_coresp.uniformat[i],C_CoA[i])"
   ]
  },
  {
   "cell_type": "code",
   "execution_count": 59,
   "metadata": {},
   "outputs": [
    {
     "name": "stdout",
     "output_type": "stream",
     "text": [
      "Barry L Friedman 1\n",
      "Benjamin M. Friedman 41\n",
      "Bernard Friedman 3\n",
      "Craig Friedman 2\n",
      "D. Friedman 1\n",
      "Daniel Friedman 27\n",
      "David D Friedman 6\n",
      "David Friedman 1\n",
      "David M. Friedman 2\n",
      "Eric Friedman 3\n",
      "Eric J. Friedman 1\n",
      "Harris C. Friedman 1\n",
      "Henry L. Friedman 1\n",
      "Irving S. Friedman 1\n",
      "J. W. Friedman 2\n",
      "James W. Friedman 11\n",
      "Jed Friedman 2\n",
      "John Friedmann 1\n",
      "John N. Friedman 9\n",
      "Jorge Friedman 1\n",
      "Joseph Friedman 4\n",
      "Milton Friedman 46\n",
      "Philip Friedman 1\n",
      "Ralph Friedmann 2\n",
      "Richard B. Friedman 1\n",
      "Richard M  Friedman 1\n",
      "Willa H. Friedman 1\n"
     ]
    }
   ],
   "source": [
    "search_auth(\"Friedman\")"
   ]
  },
  {
   "cell_type": "code",
   "execution_count": null,
   "metadata": {
    "collapsed": true
   },
   "outputs": [],
   "source": []
  }
 ],
 "metadata": {
  "kernelspec": {
   "display_name": "Python 3",
   "language": "python",
   "name": "python3"
  },
  "language_info": {
   "codemirror_mode": {
    "name": "ipython",
    "version": 3
   },
   "file_extension": ".py",
   "mimetype": "text/x-python",
   "name": "python",
   "nbconvert_exporter": "python",
   "pygments_lexer": "ipython3",
   "version": "3.6.1"
  }
 },
 "nbformat": 4,
 "nbformat_minor": 1
}
