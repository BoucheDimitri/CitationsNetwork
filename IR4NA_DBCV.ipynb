{
 "cells": [
  {
   "cell_type": "markdown",
   "metadata": {},
   "source": [
    "# Network analysis"
   ]
  },
  {
   "cell_type": "code",
   "execution_count": 1,
   "metadata": {
    "collapsed": true
   },
   "outputs": [],
   "source": [
    "from urllib.request import urlopen\n",
    "from bs4 import BeautifulSoup\n",
    "from urllib.error import HTTPError\n",
    "\n",
    "import pandas as pd\n",
    "import numpy as np\n",
    "\n",
    "from threading import Thread\n",
    "from numba import jit\n",
    "\n",
    "# from progressbar import ProgressBar\n",
    "# from jyquickhelper import add_notebook_menu"
   ]
  },
  {
   "cell_type": "code",
   "execution_count": 3,
   "metadata": {
    "collapsed": false
   },
   "outputs": [
    {
     "data": {
      "text/html": [
       "<div id=\"my_id_menu_nb\">run previous cell, wait for 2 seconds</div>\n",
       "<script>\n",
       "function repeat_indent_string(n){\n",
       "    var a = \"\" ;\n",
       "    for ( ; n > 0 ; --n) {\n",
       "        a += \"    \";\n",
       "    }\n",
       "    return a;\n",
       "}\n",
       "var update_menu_string = function(begin, lfirst, llast, sformat, send, keep_item) {\n",
       "    var anchors = document.getElementsByClassName(\"section\");\n",
       "    if (anchors.length == 0) {\n",
       "        anchors = document.getElementsByClassName(\"text_cell_render rendered_html\");\n",
       "    }\n",
       "    var i,t;\n",
       "    var text_menu = begin;\n",
       "    var text_memo = \"<pre>\\nlength:\" + anchors.length + \"\\n\";\n",
       "    var ind = \"\";\n",
       "    var memo_level = 1;\n",
       "    var href;\n",
       "    var tags = [];\n",
       "    var main_item = 0;\n",
       "    for (i = 0; i <= llast; i++) {\n",
       "        tags.push(\"h\" + i);\n",
       "    }\n",
       "\n",
       "    for (i = 0; i < anchors.length; i++) {\n",
       "        text_memo += \"**\" + anchors[i].id + \"--\\n\";\n",
       "\n",
       "        var child = null;\n",
       "        for(t = 0; t < tags.length; t++) {\n",
       "            var r = anchors[i].getElementsByTagName(tags[t]);\n",
       "            if (r.length > 0) {\n",
       "child = r[0];\n",
       "break;\n",
       "            }\n",
       "        }\n",
       "        if (child == null){\n",
       "            text_memo += \"null\\n\";\n",
       "            continue;\n",
       "        }\n",
       "        if (anchors[i].hasAttribute(\"id\")) {\n",
       "            // when converted in RST\n",
       "            href = anchors[i].id;\n",
       "            text_memo += \"#1-\" + href;\n",
       "            // passer à child suivant (le chercher)\n",
       "        }\n",
       "        else if (child.hasAttribute(\"id\")) {\n",
       "            // in a notebook\n",
       "            href = child.id;\n",
       "            text_memo += \"#2-\" + href;\n",
       "        }\n",
       "        else {\n",
       "            text_memo += \"#3-\" + \"*\" + \"\\n\";\n",
       "            continue;\n",
       "        }\n",
       "        var title = child.textContent;\n",
       "        var level = parseInt(child.tagName.substring(1,2));\n",
       "\n",
       "        text_memo += \"--\" + level + \"?\" + lfirst + \"--\" + title + \"\\n\";\n",
       "\n",
       "        if ((level < lfirst) || (level > llast)) {\n",
       "            continue ;\n",
       "        }\n",
       "        if (title.endsWith('¶')) {\n",
       "            title = title.substring(0,title.length-1).replace(\"<\", \"&lt;\").replace(\">\", \"&gt;\").replace(\"&\", \"&amp;\")\n",
       "        }\n",
       "\n",
       "        if (title.length == 0) {\n",
       "            continue;\n",
       "        }\n",
       "\n",
       "        while (level < memo_level) {\n",
       "            text_menu += \"</ul>\\n\";\n",
       "            memo_level -= 1;\n",
       "        }\n",
       "        if (level == lfirst) {\n",
       "            main_item += 1;\n",
       "        }\n",
       "        if (keep_item != -1 && main_item != keep_item + 1) {\n",
       "            // alert(main_item + \" - \" + level + \" - \" + keep_item);\n",
       "            continue;\n",
       "        }\n",
       "        while (level > memo_level) {\n",
       "            text_menu += \"<ul>\\n\";\n",
       "            memo_level += 1;\n",
       "        }\n",
       "        text_menu += repeat_indent_string(level-2) + sformat.replace(\"__HREF__\", href).replace(\"__TITLE__\", title);\n",
       "    }\n",
       "    while (1 < memo_level) {\n",
       "        text_menu += \"</ul>\\n\";\n",
       "        memo_level -= 1;\n",
       "    }\n",
       "    text_menu += send;\n",
       "    //text_menu += \"\\n\" + text_memo;\n",
       "    return text_menu;\n",
       "};\n",
       "var update_menu = function() {\n",
       "    var sbegin = \"\";\n",
       "    var sformat = '<li><a href=\"#__HREF__\">__TITLE__</a></li>';\n",
       "    var send = \"\";\n",
       "    var keep_item = -1;\n",
       "    var text_menu = update_menu_string(sbegin, 2, 4, sformat, send, keep_item);\n",
       "    var menu = document.getElementById(\"my_id_menu_nb\");\n",
       "    menu.innerHTML=text_menu;\n",
       "};\n",
       "window.setTimeout(update_menu,2000);\n",
       "            </script>"
      ],
      "text/plain": [
       "<IPython.core.display.HTML object>"
      ]
     },
     "execution_count": 3,
     "metadata": {},
     "output_type": "execute_result"
    }
   ],
   "source": [
    "add_notebook_menu()"
   ]
  },
  {
   "cell_type": "markdown",
   "metadata": {},
   "source": [
    "## Crawl the domain"
   ]
  },
  {
   "cell_type": "markdown",
   "metadata": {},
   "source": [
    "Structure des url\n",
    "\n",
    "- *root* : `https://ideas.repec.org/`\n",
    "- *article* : `a/`\n",
    "- *editeur* : `xxx/` (ex: `oup` - Oxford university Press)\n",
    "- *journal* : `xxxxxx/` (ex: `qjecon` - Quarterly Journal of Economics)\n",
    "- *id* : `xxxx.html` \n",
    "\n",
    "\n",
    "| Structure | Exemple | Contenu |\n",
    "|:----------|:--------|:--------|\n",
    "|*root* | <https://ideas.repec.org/>| page d'accueil |\n",
    "|~ + *article* | <https://ideas.repec.org/a/>| liste des répertoires d'éditeurs |\n",
    "|~ + *editeur* | <https://ideas.repec.org/a/oup/>| liste des répertoires de journaux |\n",
    "|~ + *editeur* | <https://ideas.repec.org/a/oup/qjecon/>| liste des articles du journal |\n",
    "|~ + *id*      | <https://ideas.repec.org/a/oup/qjecon/v1y1886i1p1-27..html> | page d'article |\n",
    "\n",
    "\n",
    "Pour passer en revue l'ensemble des articles, il suffit donc de collecter l'ensemble des urls d'articles  en explorant successivement ces différentes couches. "
   ]
  },
  {
   "cell_type": "code",
   "execution_count": 2,
   "metadata": {
    "collapsed": true
   },
   "outputs": [],
   "source": [
    "# set parameters\n",
    "root=\"https://ideas.repec.org/\"\n",
    "article=\"a/\""
   ]
  },
  {
   "cell_type": "markdown",
   "metadata": {},
   "source": [
    "### Get editors"
   ]
  },
  {
   "cell_type": "code",
   "execution_count": 197,
   "metadata": {
    "collapsed": true
   },
   "outputs": [],
   "source": [
    "# Get editors list\n",
    "ed_list=[]\n",
    "pbar = ProgressBar()\n",
    "\n",
    "html=urlopen(root+article)\n",
    "bsObj=BeautifulSoup(html,\"lxml\")\n",
    "\n",
    "for ed in pbar(bsObj.findAll({\"a\":\"href\"})):\n",
    "    if len(ed.attrs[\"href\"])==4:\n",
    "        ed_list+= [ed.attrs[\"href\"]]       "
   ]
  },
  {
   "cell_type": "markdown",
   "metadata": {},
   "source": [
    "### Get journals"
   ]
  },
  {
   "cell_type": "code",
   "execution_count": 198,
   "metadata": {
    "collapsed": false
   },
   "outputs": [
    {
     "name": "stderr",
     "output_type": "stream",
     "text": [
      "100% |########################################################################|\n"
     ]
    }
   ],
   "source": [
    "# Get journals list\n",
    "\n",
    "journ_list=[]\n",
    "edjourn_list=[]\n",
    "pbar = ProgressBar()\n",
    "\n",
    "for ed in pbar(ed_list):    \n",
    "    html=urlopen(root + article + ed)\n",
    "    bsObj=BeautifulSoup(html, \"lxml\")\n",
    "\n",
    "    for journ in bsObj.findAll({\"a\":\"href\"}):\n",
    "        if len(journ.attrs[\"href\"])==7:\n",
    "            journ_list+= [journ.attrs[\"href\"]]\n",
    "            edjourn_list+= [ed + journ.attrs[\"href\"]]\n"
   ]
  },
  {
   "cell_type": "markdown",
   "metadata": {},
   "source": [
    "### Get articles"
   ]
  },
  {
   "cell_type": "code",
   "execution_count": 209,
   "metadata": {
    "collapsed": false
   },
   "outputs": [
    {
     "name": "stderr",
     "output_type": "stream",
     "text": [
      "100% |########################################################################|\n"
     ]
    }
   ],
   "source": [
    "# Get articles list\n",
    "art_list=[]\n",
    "edjournart_list=[]\n",
    "pbar = ProgressBar()\n",
    "i=0\n",
    "\n",
    "for edj in pbar(edjourn_list):\n",
    "    try :\n",
    "        html=urlopen(root + article + edj )\n",
    "    except HTTPError as e :\n",
    "        i+=1\n",
    "    \n",
    "    bsObj=BeautifulSoup(html, \"lxml\")\n",
    "    for art in bsObj.findAll({\"a\":\"href\"}):\n",
    "        if \".html\" in art.attrs[\"href\"]:\n",
    "            art_list+=[art.attrs[\"href\"]]\n",
    "            edjournart_list+=[edj + art.attrs[\"href\"]]"
   ]
  },
  {
   "cell_type": "code",
   "execution_count": 210,
   "metadata": {
    "collapsed": false,
    "scrolled": true
   },
   "outputs": [
    {
     "name": "stdout",
     "output_type": "stream",
     "text": [
      "There are 655 editors, 3024 journals and 1678916 articles\n"
     ]
    }
   ],
   "source": [
    "print(\"There are {0} editors, {1} journals and {2} articles\"\\\n",
    "      .format(len(ed_list),len(journ_list),len(art_list)))"
   ]
  },
  {
   "cell_type": "code",
   "execution_count": 212,
   "metadata": {
    "collapsed": true
   },
   "outputs": [],
   "source": [
    "# Save lists (.csv)\n",
    "\n",
    "pd.Series(ed_list).to_csv('IR_scrap/ed_list.csv', index=False, header=False)\n",
    "pd.Series(journ_list).to_csv('IR_scrap/journ_list.csv', index=False, header=False)\n",
    "pd.Series(art_list).to_csv('IR_scrap/art_list.csv', index=False, header=False)\n",
    "pd.Series(edjourn_list).to_csv('IR_scrap/edjourn_list.csv', index=False, header=False)\n",
    "pd.Series(edjournart_list).to_csv('IR_scrap/edjournart_list.csv', index=False, header=False)"
   ]
  },
  {
   "cell_type": "markdown",
   "metadata": {},
   "source": [
    "## Parse article pages"
   ]
  },
  {
   "cell_type": "code",
   "execution_count": 5,
   "metadata": {
    "collapsed": true
   },
   "outputs": [],
   "source": [
    "# Load dataset\n",
    "edjournart_list=pd.read_csv('IR_scrap/edjournart_list.csv', header=None).values.flatten()"
   ]
  },
  {
   "cell_type": "code",
   "execution_count": 6,
   "metadata": {
    "collapsed": false
   },
   "outputs": [
    {
     "data": {
      "text/plain": [
       "array(['abp/hehehe/v1y1998i1p3-30.html', 'abp/hehehe/v1y1998i1p31-63.html',\n",
       "       'abp/hehehe/v1y1998i1p65-87.html',\n",
       "       'abp/hehehe/v1y1998i1p89-108.html',\n",
       "       'abp/hehehe/v1y1998i1p109-44.html'], dtype=object)"
      ]
     },
     "execution_count": 6,
     "metadata": {},
     "output_type": "execute_result"
    }
   ],
   "source": [
    "# cat\n",
    "edjournart_list[:5]"
   ]
  },
  {
   "cell_type": "markdown",
   "metadata": {},
   "source": [
    "### Get references"
   ]
  },
  {
   "cell_type": "code",
   "execution_count": 2,
   "metadata": {
    "collapsed": true
   },
   "outputs": [],
   "source": [
    "def get_refs(eja, root=\"https://ideas.repec.org/a/\"):\n",
    "    \"\"\"\n",
    "    This function returns the references from the \n",
    "    specified article (url)\n",
    "    \n",
    "    [in]  id_art\n",
    "    [out] [[id_art, id_ref]...] (np.array)\n",
    "    \"\"\"\n",
    "    \n",
    "    url= root + eja\n",
    "    try:\n",
    "        html=urlopen(url)\n",
    "    except HTTPError as e:\n",
    "        return None\n",
    "    \n",
    "    bsObj=BeautifulSoup(html,\"lxml\")\n",
    "    try:\n",
    "        ref=bsObj.find(\"div\", {\"aria-labelledby\":\"refs-tab\" })\\\n",
    "        .find(\"input\").attrs[\"value\"].split(\"#\")\n",
    "    except AttributeError as e:\n",
    "        return None\n",
    "    \n",
    "    ref=pd.Series(ref).apply(lambda x:\\\n",
    "                           [eja,x.split(\":\")[1] + \"/\" + \\\n",
    "                           x.split(\":\")[2] + \"/\" + \\\n",
    "                           ''.join(x.split(\":\")[3:]) + \".html\"]).values\n",
    "    return ref"
   ]
  },
  {
   "cell_type": "markdown",
   "metadata": {},
   "source": [
    "### Get citations"
   ]
  },
  {
   "cell_type": "code",
   "execution_count": 3,
   "metadata": {
    "collapsed": true
   },
   "outputs": [],
   "source": [
    "def get_cits(eja, root=\"https://ideas.repec.org/a/\"):\n",
    "    \"\"\"\n",
    "    This function returns the citations pointing to the \n",
    "    specified article (url)\n",
    "    \n",
    "    [in]  id_art\n",
    "    [out] [[id_art, id_cit]...] (np.array)\n",
    "    \"\"\"\n",
    "    url= root + eja\n",
    "    try:\n",
    "        html=urlopen(url)\n",
    "    except HTTPError as e:\n",
    "        return None\n",
    "    \n",
    "    bsObj=BeautifulSoup(html,\"lxml\")\n",
    "    try:\n",
    "        ref=bsObj.find(\"div\", {\"aria-labelledby\":\"cites-tab\" })\\\n",
    "        .find(\"input\").attrs[\"value\"].split(\"#\")\n",
    "    except AttributeError as e:\n",
    "        return None\n",
    "    \n",
    "    ref=pd.Series(ref).apply(lambda x:\\\n",
    "                           [eja ,x.split(\":\")[1] + \"/\" + \\\n",
    "                           x.split(\":\")[2] + \"/\" + \\\n",
    "                           ''.join(x.split(\":\")[3:]) + \".html\"]).values\n",
    "    return ref"
   ]
  },
  {
   "cell_type": "code",
   "execution_count": 9,
   "metadata": {
    "collapsed": false,
    "scrolled": false
   },
   "outputs": [
    {
     "name": "stdout",
     "output_type": "stream",
     "text": [
      "list of references \n",
      " [ ['oup/qjecon/v132y2017i4p1553-1592..html', 'bla/randje/v47y2016i3p463-497.html']\n",
      " ['oup/qjecon/v132y2017i4p1553-1592..html', 'aea/jecper/v24y2010i2p3-30.html']\n",
      " ['oup/qjecon/v132y2017i4p1553-1592..html', 'aea/jeclit/v48y2010i2p356-98.html']\n",
      " ['oup/qjecon/v132y2017i4p1553-1592..html', 'ucp/jpolec/doi10.1086/666588.html']\n",
      " ['oup/qjecon/v132y2017i4p1553-1592..html', 'ecm/emetrp/v63y1995i4p841-90.html']]\n",
      "list of citations \n",
      " [['oup/qjecon/v132y2017i4p1553-1592..html', 'nbr/nberwo/20695.html']\n",
      " ['oup/qjecon/v132y2017i4p1553-1592..html', 'eee/indorg/v43y2015icp189-207.html']\n",
      " ['oup/qjecon/v132y2017i4p1553-1592..html', 'bla/randje/v46y2015i3p625-649.html']\n",
      " ['oup/qjecon/v132y2017i4p1553-1592..html', 'feb/framed/00392.html']]\n"
     ]
    }
   ],
   "source": [
    "# Exemple d'utilisation\n",
    "eja=\"oup/qjecon/v132y2017i4p1553-1592..html\"\n",
    "refs_list=get_refs(eja)\n",
    "cits_list=get_cits(eja)\n",
    "print(\"list of references \\n\",refs_list[:5])\n",
    "print(\"list of citations \\n\",cits_list[:5])"
   ]
  },
  {
   "cell_type": "markdown",
   "metadata": {},
   "source": [
    "### Get stack"
   ]
  },
  {
   "cell_type": "code",
   "execution_count": 4,
   "metadata": {
    "collapsed": true
   },
   "outputs": [],
   "source": [
    "def get_stack(itr_list,i,j, meth):\n",
    "    \"\"\"\n",
    "    This function piles-up the refences/citations from/pointing\n",
    "    to the sequence of specified articles (url)\n",
    "    \n",
    "    [in]  id_art (iterable)\n",
    "          meth=\"ref\" for references\n",
    "               \"cit\" for citations\n",
    "    [out] [[id_art1, id_cit1]\n",
    "            [id_art1, id_cit2]\n",
    "            ...\n",
    "            [id_artn, id_citp]] (np.array)\n",
    "    \"\"\"\n",
    "    \n",
    "    valid={\"cit\",\"ref\"}\n",
    "    if meth not in valid:\n",
    "        raise ValueError(\"results: meth must be one of %r.\" % valid)\n",
    "        \n",
    "    if meth==\"cit\":\n",
    "        cits=np.empty(1)\n",
    "        #pbar = ProgressBar()\n",
    "        #for eja in pbar(itr_list[i:j]):\n",
    "        for eja in itr_list[i:j]:\n",
    "            if get_cits(eja) is not None:\n",
    "                    cits=np.concatenate((cits,get_cits(eja)), axis=0)\n",
    "        return cits[1:]\n",
    "    \n",
    "    if meth==\"ref\":\n",
    "        refs=np.empty(1)\n",
    "        #pbar = ProgressBar()\n",
    "        #for eja in pbar(itr_list[i:j]):\n",
    "        for eja in itr_list[i:j]:\n",
    "            if get_refs(eja) is not None:\n",
    "                    try :\n",
    "                        refs_copy = np.copy(refs)\n",
    "                        refs=np.concatenate((refs,get_refs(eja)), axis=0)\n",
    "                    except ValueError:\n",
    "                        refs = refs_copy\n",
    "        return refs[1:]"
   ]
  },
  {
   "cell_type": "code",
   "execution_count": 5,
   "metadata": {
    "collapsed": true
   },
   "outputs": [],
   "source": [
    "path = \"C://Users//Dimitri//Desktop//ENSAE3A//NetworkData//\"\n",
    "out_path = path + \"Output//\"\n",
    "import time"
   ]
  },
  {
   "cell_type": "code",
   "execution_count": 6,
   "metadata": {
    "collapsed": false
   },
   "outputs": [],
   "source": [
    "edjournart_list = pd.read_csv(path + \"sub_edjournart.csv\", header=None)[0].tolist()"
   ]
  },
  {
   "cell_type": "code",
   "execution_count": 7,
   "metadata": {
    "collapsed": false
   },
   "outputs": [],
   "source": [
    "ind_list = list(range(0, len(edjournart_list)))\n",
    "# ind_list = list(range(10000, 10100))\n",
    "n_splits = 20\n",
    "splits = np.array_split(ind_list, n_splits)"
   ]
  },
  {
   "cell_type": "code",
   "execution_count": 8,
   "metadata": {
    "collapsed": false
   },
   "outputs": [],
   "source": [
    "for i in range(15, n_splits):\n",
    "    refs = get_stack(edjournart_list, splits[i][0], splits[i][-1], \"ref\")\n",
    "    pd.Series(refs).to_csv(out_path + \"refs_\" + str(i) + \".csv\")"
   ]
  },
  {
   "cell_type": "code",
   "execution_count": 11,
   "metadata": {
    "collapsed": true,
    "scrolled": true
   },
   "outputs": [],
   "source": [
    "# Exemple d'utilisation\n",
    "test_ref=get_stack(edjournart_list,0,100, \"ref\")\n",
    "test_cit=get_stack(edjournart_list,0,100, \"cit\")"
   ]
  },
  {
   "cell_type": "code",
   "execution_count": 12,
   "metadata": {
    "collapsed": false
   },
   "outputs": [
    {
     "name": "stdout",
     "output_type": "stream",
     "text": [
      "References [['acb/agenda/v1y1994i1p5-12.html', 'ags/joagco/120726.html']\n",
      " ['acb/agenda/v1y1994i1p5-12.html', 'sae/envira/v25y1993i12p1853-1856.html']\n",
      " ['acb/agenda/v1y1994i1p5-12.html', 'cep/cepdps/dp0174.html']\n",
      " ['acb/agenda/v1y1994i1p5-12.html', 'ags/ajaeau/22738.html']\n",
      " ['acb/agenda/v1y1994i1p5-12.html', 'ags/remaae/9621.html']]\n",
      "Citations [['acb/agenda/v1y1994i1p5-12.html', 'acb/agenda/v4y1997i1p101-111.html']\n",
      " ['acb/agenda/v1y1994i1p13-23.html', 'acb/agenda/v2y1995i2p233-240.html']\n",
      " ['acb/agenda/v1y1994i1p13-23.html', 'acb/agenda/v1y1994i2p167-178.html']\n",
      " ['acb/agenda/v1y1994i1p71-79.html', 'acb/agenda/v1y1994i2p253-255.html']\n",
      " ['acb/agenda/v1y1994i1p71-79.html', 'acb/agenda/v1y1994i2p250-253.html']]\n"
     ]
    }
   ],
   "source": [
    "print(\"References\",test_ref[:5])\n",
    "print(\"Citations\",test_cit[:5])"
   ]
  },
  {
   "cell_type": "markdown",
   "metadata": {},
   "source": [
    "Avec `if get_refs(eja) is not None:`\n",
    "\n",
    "    CPU times: user 4.41 s, sys: 128 ms, total: 4.54 s\n",
    "    Wall time: 31.2 s\n",
    "    \n",
    "En précompilant (`@jit`)\n",
    "\n",
    "    CPU times: user 4.41 s, sys: 121 ms, total: 4.53 s\n",
    "    Wall time: 22.5 s"
   ]
  },
  {
   "cell_type": "markdown",
   "metadata": {},
   "source": [
    "### Get attributes"
   ]
  },
  {
   "cell_type": "code",
   "execution_count": 6,
   "metadata": {
    "collapsed": true
   },
   "outputs": [],
   "source": [
    "def get_attrs(url):\n",
    "    \"\"\"\n",
    "    This function returns the attributes of interest from the \n",
    "    specified article (url)\n",
    "    \n",
    "    [in]  url\n",
    "    [out] url\n",
    "          title\n",
    "          authors\n",
    "          date\n",
    "          jel_code\n",
    "          jeywords\n",
    "    \"\"\"\n",
    "    \n",
    "    try:\n",
    "        html=urlopen(url)\n",
    "    except HTTPError as e:\n",
    "        return None\n",
    "    \n",
    "    bsObj=BeautifulSoup(html,\"lxml\")\n",
    "    try:\n",
    "        title=bsObj.find(\"meta\", {\"name\":\"citation_title\"}).attrs[\"content\"]\n",
    "    except AttributeError as e:\n",
    "        title=np.nan\n",
    "    try:\n",
    "        authors=bsObj.find(\"meta\", {\"name\":\"citation_authors\"}).attrs[\"content\"]\n",
    "    except AttributeError as e:\n",
    "        authors=np.nan\n",
    "    try:\n",
    "        date=bsObj.find(\"meta\", {\"name\":\"date\"}).attrs[\"content\"]\n",
    "    except AttributeError as e:\n",
    "        date=np.nan\n",
    "    try:\n",
    "        jel_code=bsObj.find(\"meta\", {\"name\":\"jel_code\"}).attrs[\"content\"]\n",
    "    except AttributeError as e:\n",
    "        jel_code=np.nan\n",
    "    try:\n",
    "        keywords=bsObj.find(\"meta\", {\"name\":\"keywords\"}).attrs[\"content\"]\n",
    "    except AttributeError as e:\n",
    "        keywords=np.nan\n",
    "    \n",
    "    return url, title, authors, date, jel_code, keywords"
   ]
  },
  {
   "cell_type": "code",
   "execution_count": 14,
   "metadata": {
    "collapsed": true
   },
   "outputs": [],
   "source": [
    "# Ex d'utilisation\n",
    "attrs=[]\n",
    "\n",
    "for eja in edjournart_list[:100]:\n",
    "    attrs+=[get_attrs(root + article + eja)]    "
   ]
  },
  {
   "cell_type": "markdown",
   "metadata": {},
   "source": [
    "Pour 100 articles :\n",
    "\n",
    "    CPU times: user 3.68 s, sys: 162 ms, total: 3.84 s\n",
    "    Wall time: 20.1 s\n",
    "    \n",
    "ie approx 95 heures pour 1,7 millions ...\n",
    "\n",
    "Options :\n",
    "\n",
    "- multithreading\n",
    "- sélection\n",
    "- mixte des deux"
   ]
  },
  {
   "cell_type": "code",
   "execution_count": 15,
   "metadata": {
    "collapsed": true
   },
   "outputs": [],
   "source": [
    "# Attributs complémentaires\n",
    "\n",
    "db_attrs= pd.DataFrame(attrs, \n",
    "                      columns=[\"url\", \"title\", \"authors\", \"date\", \"jel_code\", \"keywords\"])\n",
    "db_attrs[\"editor\"]= db_attrs.url.str.split(\"/\").apply(lambda x: x[4])\n",
    "db_attrs[\"journal\"]= db_attrs.url.str.split(\"/\").apply(lambda x: x[5])\n",
    "db_attrs[\"article_id\"]= db_attrs.url.str.split(\"/\").apply(lambda x: x[-1])\n",
    "db_attrs[\"year\"]=pd.DatetimeIndex(db_attrs.date).year"
   ]
  },
  {
   "cell_type": "code",
   "execution_count": 16,
   "metadata": {
    "collapsed": false,
    "scrolled": true
   },
   "outputs": [
    {
     "data": {
      "text/html": [
       "<div>\n",
       "<style scoped>\n",
       "    .dataframe tbody tr th:only-of-type {\n",
       "        vertical-align: middle;\n",
       "    }\n",
       "\n",
       "    .dataframe tbody tr th {\n",
       "        vertical-align: top;\n",
       "    }\n",
       "\n",
       "    .dataframe thead th {\n",
       "        text-align: right;\n",
       "    }\n",
       "</style>\n",
       "<table border=\"1\" class=\"dataframe\">\n",
       "  <thead>\n",
       "    <tr style=\"text-align: right;\">\n",
       "      <th></th>\n",
       "      <th>url</th>\n",
       "      <th>title</th>\n",
       "      <th>authors</th>\n",
       "      <th>date</th>\n",
       "      <th>jel_code</th>\n",
       "      <th>keywords</th>\n",
       "      <th>editor</th>\n",
       "      <th>journal</th>\n",
       "      <th>article_id</th>\n",
       "      <th>year</th>\n",
       "    </tr>\n",
       "  </thead>\n",
       "  <tbody>\n",
       "    <tr>\n",
       "      <th>0</th>\n",
       "      <td>https://ideas.repec.org/a/abp/hehehe/v1y1998i1...</td>\n",
       "      <td>Tavares Bastos e a questão agrária no Império</td>\n",
       "      <td>Ligia Osorio Silva</td>\n",
       "      <td>1998-02-02</td>\n",
       "      <td></td>\n",
       "      <td></td>\n",
       "      <td>abp</td>\n",
       "      <td>hehehe</td>\n",
       "      <td>v1y1998i1p3-30.html</td>\n",
       "      <td>1998</td>\n",
       "    </tr>\n",
       "    <tr>\n",
       "      <th>1</th>\n",
       "      <td>https://ideas.repec.org/a/abp/hehehe/v1y1998i1...</td>\n",
       "      <td>O mercado de trabalho mineiro no século XIX</td>\n",
       "      <td>Sérgio de Oliveira Birchal</td>\n",
       "      <td>1998-02-02</td>\n",
       "      <td></td>\n",
       "      <td></td>\n",
       "      <td>abp</td>\n",
       "      <td>hehehe</td>\n",
       "      <td>v1y1998i1p31-63.html</td>\n",
       "      <td>1998</td>\n",
       "    </tr>\n",
       "    <tr>\n",
       "      <th>2</th>\n",
       "      <td>https://ideas.repec.org/a/abp/hehehe/v1y1998i1...</td>\n",
       "      <td>Encilhamento: controvérsia e efeitos sobre a i...</td>\n",
       "      <td>Maria Teresa Ribeiro de Oliveira</td>\n",
       "      <td>1998-02-02</td>\n",
       "      <td></td>\n",
       "      <td></td>\n",
       "      <td>abp</td>\n",
       "      <td>hehehe</td>\n",
       "      <td>v1y1998i1p65-87.html</td>\n",
       "      <td>1998</td>\n",
       "    </tr>\n",
       "    <tr>\n",
       "      <th>3</th>\n",
       "      <td>https://ideas.repec.org/a/abp/hehehe/v1y1998i1...</td>\n",
       "      <td>Entre a lavoura e a indústria: tensões e polêm...</td>\n",
       "      <td>Maria Izilda Santos de Matos</td>\n",
       "      <td>1998-02-02</td>\n",
       "      <td></td>\n",
       "      <td></td>\n",
       "      <td>abp</td>\n",
       "      <td>hehehe</td>\n",
       "      <td>v1y1998i1p89-108.html</td>\n",
       "      <td>1998</td>\n",
       "    </tr>\n",
       "    <tr>\n",
       "      <th>4</th>\n",
       "      <td>https://ideas.repec.org/a/abp/hehehe/v1y1998i1...</td>\n",
       "      <td>A Sadia e o pioneirismo industrial na agroindú...</td>\n",
       "      <td>Armando Dalla Costa</td>\n",
       "      <td>1998-02-02</td>\n",
       "      <td></td>\n",
       "      <td></td>\n",
       "      <td>abp</td>\n",
       "      <td>hehehe</td>\n",
       "      <td>v1y1998i1p109-44.html</td>\n",
       "      <td>1998</td>\n",
       "    </tr>\n",
       "  </tbody>\n",
       "</table>\n",
       "</div>"
      ],
      "text/plain": [
       "                                                 url  \\\n",
       "0  https://ideas.repec.org/a/abp/hehehe/v1y1998i1...   \n",
       "1  https://ideas.repec.org/a/abp/hehehe/v1y1998i1...   \n",
       "2  https://ideas.repec.org/a/abp/hehehe/v1y1998i1...   \n",
       "3  https://ideas.repec.org/a/abp/hehehe/v1y1998i1...   \n",
       "4  https://ideas.repec.org/a/abp/hehehe/v1y1998i1...   \n",
       "\n",
       "                                               title  \\\n",
       "0      Tavares Bastos e a questão agrária no Império   \n",
       "1        O mercado de trabalho mineiro no século XIX   \n",
       "2  Encilhamento: controvérsia e efeitos sobre a i...   \n",
       "3  Entre a lavoura e a indústria: tensões e polêm...   \n",
       "4  A Sadia e o pioneirismo industrial na agroindú...   \n",
       "\n",
       "                            authors        date jel_code keywords editor  \\\n",
       "0                Ligia Osorio Silva  1998-02-02                      abp   \n",
       "1        Sérgio de Oliveira Birchal  1998-02-02                      abp   \n",
       "2  Maria Teresa Ribeiro de Oliveira  1998-02-02                      abp   \n",
       "3      Maria Izilda Santos de Matos  1998-02-02                      abp   \n",
       "4               Armando Dalla Costa  1998-02-02                      abp   \n",
       "\n",
       "  journal             article_id  year  \n",
       "0  hehehe    v1y1998i1p3-30.html  1998  \n",
       "1  hehehe   v1y1998i1p31-63.html  1998  \n",
       "2  hehehe   v1y1998i1p65-87.html  1998  \n",
       "3  hehehe  v1y1998i1p89-108.html  1998  \n",
       "4  hehehe  v1y1998i1p109-44.html  1998  "
      ]
     },
     "execution_count": 16,
     "metadata": {},
     "output_type": "execute_result"
    }
   ],
   "source": [
    "# Aperçu de la base de données\n",
    "db_attrs.head()"
   ]
  },
  {
   "cell_type": "markdown",
   "metadata": {},
   "source": [
    "## Production"
   ]
  },
  {
   "cell_type": "markdown",
   "metadata": {},
   "source": [
    "### Subset"
   ]
  },
  {
   "cell_type": "code",
   "execution_count": 17,
   "metadata": {
    "collapsed": true
   },
   "outputs": [],
   "source": [
    "def get_rankj(url, lb):\n",
    "    html=urlopen(url)\n",
    "    bsObj=BeautifulSoup(html, \"lxml\")\n",
    "    rankj_list=[]\n",
    "    i=0\n",
    "    \n",
    "    while (len(rankj_list)<=lb):\n",
    "        i+=1\n",
    "        try:\n",
    "            rankj_list+=[bsObj.find(\"div\", {\"aria-labelledby\":\"ranking-tab\" })\\\n",
    "            .findAll(\"a\")[i].attrs[\"name\"]]\n",
    "            #print(i)\n",
    "        except (AttributeError,KeyError):\n",
    "            pass\n",
    "    \n",
    "    return pd.Series(rankj_list).apply(lambda x : x.split(\":\")[1] + \"/\" + x.split(\":\")[2]).values"
   ]
  },
  {
   "cell_type": "code",
   "execution_count": 18,
   "metadata": {
    "collapsed": true
   },
   "outputs": [],
   "source": [
    "# Get the 30 best ranked journals\n",
    "#rankj_30=get_rankj(\"https://ideas.repec.org/top/top.journals.all.html\",30)\n",
    "#pd.Series(rankj_30).to_csv('IR_scrap/rankj_30.csv', index=False, header=False)"
   ]
  },
  {
   "cell_type": "code",
   "execution_count": 26,
   "metadata": {
    "collapsed": true
   },
   "outputs": [],
   "source": [
    "# Load rankj_30\n",
    "rankj_30=pd.read_csv('IR_scrap/rankj_30.csv',header=None).values.flatten()"
   ]
  },
  {
   "cell_type": "code",
   "execution_count": 23,
   "metadata": {
    "collapsed": false
   },
   "outputs": [
    {
     "data": {
      "text/html": [
       "<div>\n",
       "<style scoped>\n",
       "    .dataframe tbody tr th:only-of-type {\n",
       "        vertical-align: middle;\n",
       "    }\n",
       "\n",
       "    .dataframe tbody tr th {\n",
       "        vertical-align: top;\n",
       "    }\n",
       "\n",
       "    .dataframe thead th {\n",
       "        text-align: right;\n",
       "    }\n",
       "</style>\n",
       "<table border=\"1\" class=\"dataframe\">\n",
       "  <thead>\n",
       "    <tr style=\"text-align: right;\">\n",
       "      <th></th>\n",
       "      <th>eja</th>\n",
       "    </tr>\n",
       "  </thead>\n",
       "  <tbody>\n",
       "    <tr>\n",
       "      <th>0</th>\n",
       "      <td>abp/hehehe/v1y1998i1p3-30.html</td>\n",
       "    </tr>\n",
       "    <tr>\n",
       "      <th>1</th>\n",
       "      <td>abp/hehehe/v1y1998i1p31-63.html</td>\n",
       "    </tr>\n",
       "    <tr>\n",
       "      <th>2</th>\n",
       "      <td>abp/hehehe/v1y1998i1p65-87.html</td>\n",
       "    </tr>\n",
       "    <tr>\n",
       "      <th>3</th>\n",
       "      <td>abp/hehehe/v1y1998i1p89-108.html</td>\n",
       "    </tr>\n",
       "    <tr>\n",
       "      <th>4</th>\n",
       "      <td>abp/hehehe/v1y1998i1p109-44.html</td>\n",
       "    </tr>\n",
       "  </tbody>\n",
       "</table>\n",
       "</div>"
      ],
      "text/plain": [
       "                                eja\n",
       "0    abp/hehehe/v1y1998i1p3-30.html\n",
       "1   abp/hehehe/v1y1998i1p31-63.html\n",
       "2   abp/hehehe/v1y1998i1p65-87.html\n",
       "3  abp/hehehe/v1y1998i1p89-108.html\n",
       "4  abp/hehehe/v1y1998i1p109-44.html"
      ]
     },
     "execution_count": 23,
     "metadata": {},
     "output_type": "execute_result"
    }
   ],
   "source": [
    "# edjournart_db\n",
    "edjournart_db=pd.read_csv('IR_scrap/edjournart_list.csv', header=None, names=[\"eja\"])\n",
    "edjournart_db.head()"
   ]
  },
  {
   "cell_type": "code",
   "execution_count": 28,
   "metadata": {
    "collapsed": true
   },
   "outputs": [],
   "source": [
    "# Subset of articles (only published in one of the 30 most reknown journals)\n",
    "\n",
    "sub_eja=np.empty(1).flatten() # init\n",
    "for i in range(len(rankj_30)):\n",
    "    sub_eja=np.concatenate([sub_eja,\\\n",
    "                            np.array(np.where(edjournart_db.eja.str.contains(rankj_30[i])==True)).flatten()])\n",
    "sub_eja=sub_eja[1:].astype(int)"
   ]
  },
  {
   "cell_type": "code",
   "execution_count": 29,
   "metadata": {
    "collapsed": true
   },
   "outputs": [],
   "source": [
    "# Subset of interest\n",
    "sub_edjournart_list= edjournart_list[sub_eja]\n",
    "pd.Series(sub_edjournart_list).to_csv('IR_scrap/sub_edjournart.csv', index=False, header=False)"
   ]
  },
  {
   "cell_type": "code",
   "execution_count": 33,
   "metadata": {
    "collapsed": true
   },
   "outputs": [],
   "source": [
    "# Load sub_edjournart\n",
    "sub_edjournart=pd.read_csv('IR_scrap/sub_edjournart.csv',header=None).values.flatten()"
   ]
  },
  {
   "cell_type": "markdown",
   "metadata": {},
   "source": [
    "### Multithreading"
   ]
  },
  {
   "cell_type": "code",
   "execution_count": 7,
   "metadata": {
    "collapsed": true
   },
   "outputs": [],
   "source": [
    "# Thread for collecting attributes\n",
    "class thrd_attrs(Thread):\n",
    "    \n",
    "    def __init__(self, itr_list):\n",
    "        Thread.__init__(self)\n",
    "        #self.lb=lb\n",
    "        #self.ub=ub\n",
    "        self.attrs=[]\n",
    "        self.itr_list= itr_list\n",
    "        \n",
    "    def run(self):\n",
    "        #from progressbar import ProgressBar\n",
    "        \n",
    "        root=\"https://ideas.repec.org/\"\n",
    "        article=\"a/\"\n",
    "        #pbar= ProgressBar()\n",
    "\n",
    "        #for i in pbar(range(self.lb,self.ub)):\n",
    "        for i in range(len(self.itr_list)):\n",
    "            self.attrs+=[get_attrs(root + article + self.itr_list[i])]        "
   ]
  },
  {
   "cell_type": "code",
   "execution_count": 8,
   "metadata": {
    "collapsed": true
   },
   "outputs": [],
   "source": [
    "# Thread for collecting ref\n",
    "\n",
    "class thrd_stack(Thread):\n",
    "    \n",
    "    def __init__(self, itr_list, meth):\n",
    "        Thread.__init__(self)\n",
    "        #self.lb=lb\n",
    "        #self.ub=ub\n",
    "        self.meth=meth\n",
    "        self.itr_list=itr_list\n",
    "        import numpy as np\n",
    "        self.stack=np.empty(1)\n",
    "        \n",
    "    def run(self):        \n",
    "        self.stack=get_stack(self.itr_list,0,len(self.itr_list), self.meth)        "
   ]
  },
  {
   "cell_type": "markdown",
   "metadata": {},
   "source": [
    "### Here we are"
   ]
  },
  {
   "cell_type": "code",
   "execution_count": 9,
   "metadata": {
    "collapsed": true
   },
   "outputs": [],
   "source": [
    "# Load sub_edjournart\n",
    "sub_edjournart=pd.read_csv('IR_scrap/sub_edjournart.csv',header=None).values.flatten()\n",
    "step=len(sub_edjournart)//10"
   ]
  },
  {
   "cell_type": "code",
   "execution_count": 10,
   "metadata": {
    "collapsed": false
   },
   "outputs": [
    {
     "name": "stderr",
     "output_type": "stream",
     "text": [
      "100% |########################################################################|\n"
     ]
    }
   ],
   "source": [
    "attrs=[]\n",
    "pbar=ProgressBar()\n",
    "\n",
    "for eja in pbar(sub_edjournart[step*0:step*1]):\n",
    "    attrs+=[get_attrs(root + article + eja)]    "
   ]
  },
  {
   "cell_type": "code",
   "execution_count": 15,
   "metadata": {
    "collapsed": true
   },
   "outputs": [],
   "source": [
    "db_attrs1_sub= pd.DataFrame(attrs, \n",
    "                      columns=[\"url\", \"title\", \"authors\", \"date\", \"jel_code\", \"keywords\"])"
   ]
  },
  {
   "cell_type": "code",
   "execution_count": 17,
   "metadata": {
    "collapsed": true
   },
   "outputs": [],
   "source": [
    "db_attrs1_sub.to_csv(\"IR_scrap/attrs1_sub\")"
   ]
  },
  {
   "cell_type": "code",
   "execution_count": null,
   "metadata": {
    "collapsed": true
   },
   "outputs": [],
   "source": []
  },
  {
   "cell_type": "markdown",
   "metadata": {},
   "source": [
    "## Snippets"
   ]
  },
  {
   "cell_type": "code",
   "execution_count": 18,
   "metadata": {
    "collapsed": false,
    "scrolled": false
   },
   "outputs": [
    {
     "name": "stdout",
     "output_type": "stream",
     "text": [
      "list of references \n",
      " [ ['oup/qjecon/v132y2017i4p1553-1592..html', 'bla/randje/v47y2016i3p463-497.html']\n",
      " ['oup/qjecon/v132y2017i4p1553-1592..html', 'aea/jecper/v24y2010i2p3-30.html']\n",
      " ['oup/qjecon/v132y2017i4p1553-1592..html', 'aea/jeclit/v48y2010i2p356-98.html']\n",
      " ['oup/qjecon/v132y2017i4p1553-1592..html', 'ucp/jpolec/doi10.1086/666588.html']\n",
      " ['oup/qjecon/v132y2017i4p1553-1592..html', 'ecm/emetrp/v63y1995i4p841-90.html']]\n",
      "list of citations \n",
      " [['oup/qjecon/v132y2017i4p1553-1592..html', 'nbr/nberwo/20695.html']\n",
      " ['oup/qjecon/v132y2017i4p1553-1592..html', 'eee/indorg/v43y2015icp189-207.html']\n",
      " ['oup/qjecon/v132y2017i4p1553-1592..html', 'bla/randje/v46y2015i3p625-649.html']\n",
      " ['oup/qjecon/v132y2017i4p1553-1592..html', 'feb/framed/00392.html']]\n"
     ]
    }
   ],
   "source": [
    "# Exemple d'utilisation\n",
    "eja=\"oup/qjecon/v132y2017i4p1553-1592..html\"\n",
    "refs_list=get_refs(eja)\n",
    "cits_list=get_cits(eja)\n",
    "print(\"list of references \\n\",refs_list[:5])\n",
    "print(\"list of citations \\n\",cits_list[:5])"
   ]
  },
  {
   "cell_type": "code",
   "execution_count": null,
   "metadata": {
    "collapsed": true
   },
   "outputs": [],
   "source": []
  },
  {
   "cell_type": "code",
   "execution_count": 43,
   "metadata": {
    "collapsed": true
   },
   "outputs": [],
   "source": [
    "# Instantiate threads\n",
    "\n",
    "# Attributes threads\n",
    "attrs_1=thrd_attrs(sub_edjournart[step*0 :step*1])\n",
    "attrs_2=thrd_attrs(sub_edjournart[step*1 :step*2])\n",
    "attrs_3=thrd_attrs(sub_edjournart[step*2 :step*3])\n",
    "attrs_4=thrd_attrs(sub_edjournart[step*3 :step*4])\n",
    "#attrs_5=thrd_attrs(sub_edjournart[step*4 ,step*5])\n",
    "#attrs_6=thrd_attrs(sub_edjournart[step*5 ,step*6])\n",
    "#attrs_7=thrd_attrs(sub_edjournart[step*6 ,step*7])\n",
    "#attrs_8=thrd_attrs(sub_edjournart[step*7 ,step*8])\n",
    "#attrs_9=thrd_attrs(sub_edjournart[step*8 ,step*9])\n",
    "#attrs_10=thrd_attrs(sub_edjournart[step*9 ,len(sub_edjournart_list)])\n",
    "\n",
    "# Ref threads\n",
    "#refs_1=thrd_stack(sub_edjournart_list,lb=step*0 ,ub=step*1, meth=\"ref\")\n",
    "#refs_2=thrd_stack(sub_edjournart_list,lb=step*1 ,ub=step*2, meth=\"ref\")\n",
    "#refs_3=thrd_stack(sub_edjournart_list,lb=step*2 ,ub=step*3, meth=\"ref\")\n",
    "#refs_4=thrd_stack(sub_edjournart_list,lb=step*3 ,ub=step*4, meth=\"ref\")\n",
    "#refs_5=thrd_stack(sub_edjournart_list,lb=step*4 ,ub=step*5, meth=\"ref\")\n",
    "#refs_6=thrd_stack(sub_edjournart_list,lb=step*5 ,ub=step*6, meth=\"ref\")\n",
    "#refs_7=thrd_stack(sub_edjournart_list,lb=step*6 ,ub=step*7, meth=\"ref\")\n",
    "#refs_8=thrd_stack(sub_edjournart_list,lb=step*7 ,ub=step*8, meth=\"ref\")\n",
    "#refs_9=thrd_stack(sub_edjournart_list,lb=step*8 ,ub=step*9, meth=\"ref\")\n",
    "#refs_10=thrd_stack(sub_edjournart_list,lb=step*9 ,ub=len(sub_edjournart_list), meth=\"ref\")\n",
    "\n",
    "# Cit threads\n",
    "#cits_1=thrd_stack(sub_edjournart_list,lb=step*0 ,ub=step*1, meth=\"cit\")\n",
    "#cits_2=thrd_stack(sub_edjournart_list,lb=step*1 ,ub=step*2, meth=\"cit\")\n",
    "#cits_3=thrd_stack(sub_edjournart_list,lb=step*2 ,ub=step*3, meth=\"cit\")\n",
    "#cits_4=thrd_stack(sub_edjournart_list,lb=step*3 ,ub=step*4, meth=\"cit\")\n",
    "#cits_5=thrd_stack(sub_edjournart_list,lb=step*4 ,ub=step*5, meth=\"cit\")\n",
    "#cits_6=thrd_stack(sub_edjournart_list,lb=step*5 ,ub=step*6, meth=\"cit\")\n",
    "#cits_7=thrd_stack(sub_edjournart_list,lb=step*6 ,ub=step*7, meth=\"cit\")\n",
    "#cits_8=thrd_stack(sub_edjournart_list,lb=step*7 ,ub=step*8, meth=\"cit\")\n",
    "#cits_9=thrd_stack(sub_edjournart_list,lb=step*8 ,ub=step*9, meth=\"cit\")\n",
    "#cits_10=thrd_stack(sub_edjournart_list,lb=step*9 ,ub=len(sub_edjournart_list), meth=\"cit\")"
   ]
  },
  {
   "cell_type": "code",
   "execution_count": 44,
   "metadata": {
    "collapsed": true
   },
   "outputs": [],
   "source": [
    "del attrs_1, attrs_2, attrs_3, attrs_4"
   ]
  },
  {
   "cell_type": "code",
   "execution_count": 45,
   "metadata": {
    "collapsed": true,
    "scrolled": true
   },
   "outputs": [],
   "source": [
    "attrs_1=thrd_attrs(sub_edjournart[step*0 :step*1])\n",
    "attrs_2=thrd_attrs(sub_edjournart[step*1 :step*2])\n",
    "attrs_3=thrd_attrs(sub_edjournart[step*2 :step*3])\n",
    "attrs_4=thrd_attrs(sub_edjournart[step*3 :step*4])\n",
    "\n",
    "attrs_1.start()\n",
    "attrs_2.start()\n",
    "attrs_3.start()\n",
    "attrs_4.start()"
   ]
  },
  {
   "cell_type": "code",
   "execution_count": 24,
   "metadata": {
    "collapsed": false,
    "scrolled": true
   },
   "outputs": [
    {
     "name": "stderr",
     "output_type": "stream",
     "text": [
      " 21% |###############                                                         |\r"
     ]
    },
    {
     "ename": "KeyboardInterrupt",
     "evalue": "",
     "output_type": "error",
     "traceback": [
      "\u001b[0;31m---------------------------------------------------------------------------\u001b[0m",
      "\u001b[0;31mKeyboardInterrupt\u001b[0m                         Traceback (most recent call last)",
      "\u001b[0;32m<ipython-input-24-3c9543035fa5>\u001b[0m in \u001b[0;36m<module>\u001b[0;34m()\u001b[0m\n\u001b[1;32m      2\u001b[0m \u001b[0mattrs_2\u001b[0m\u001b[0;34m.\u001b[0m\u001b[0mstart\u001b[0m\u001b[0;34m(\u001b[0m\u001b[0;34m)\u001b[0m\u001b[0;34m\u001b[0m\u001b[0m\n\u001b[1;32m      3\u001b[0m \u001b[0;34m\u001b[0m\u001b[0m\n\u001b[0;32m----> 4\u001b[0;31m \u001b[0mattrs_1\u001b[0m\u001b[0;34m.\u001b[0m\u001b[0mjoin\u001b[0m\u001b[0;34m(\u001b[0m\u001b[0;34m)\u001b[0m\u001b[0;34m\u001b[0m\u001b[0m\n\u001b[0m\u001b[1;32m      5\u001b[0m \u001b[0mattrs_2\u001b[0m\u001b[0;34m.\u001b[0m\u001b[0mjoin\u001b[0m\u001b[0;34m(\u001b[0m\u001b[0;34m)\u001b[0m\u001b[0;34m\u001b[0m\u001b[0m\n\u001b[1;32m      6\u001b[0m \u001b[0;34m\u001b[0m\u001b[0m\n",
      "\u001b[0;32m/Users/cyrilverluise/anaconda/lib/python3.6/threading.py\u001b[0m in \u001b[0;36mjoin\u001b[0;34m(self, timeout)\u001b[0m\n\u001b[1;32m   1054\u001b[0m \u001b[0;34m\u001b[0m\u001b[0m\n\u001b[1;32m   1055\u001b[0m         \u001b[0;32mif\u001b[0m \u001b[0mtimeout\u001b[0m \u001b[0;32mis\u001b[0m \u001b[0;32mNone\u001b[0m\u001b[0;34m:\u001b[0m\u001b[0;34m\u001b[0m\u001b[0m\n\u001b[0;32m-> 1056\u001b[0;31m             \u001b[0mself\u001b[0m\u001b[0;34m.\u001b[0m\u001b[0m_wait_for_tstate_lock\u001b[0m\u001b[0;34m(\u001b[0m\u001b[0;34m)\u001b[0m\u001b[0;34m\u001b[0m\u001b[0m\n\u001b[0m\u001b[1;32m   1057\u001b[0m         \u001b[0;32melse\u001b[0m\u001b[0;34m:\u001b[0m\u001b[0;34m\u001b[0m\u001b[0m\n\u001b[1;32m   1058\u001b[0m             \u001b[0;31m# the behavior of a negative timeout isn't documented, but\u001b[0m\u001b[0;34m\u001b[0m\u001b[0;34m\u001b[0m\u001b[0m\n",
      "\u001b[0;32m/Users/cyrilverluise/anaconda/lib/python3.6/threading.py\u001b[0m in \u001b[0;36m_wait_for_tstate_lock\u001b[0;34m(self, block, timeout)\u001b[0m\n\u001b[1;32m   1070\u001b[0m         \u001b[0;32mif\u001b[0m \u001b[0mlock\u001b[0m \u001b[0;32mis\u001b[0m \u001b[0;32mNone\u001b[0m\u001b[0;34m:\u001b[0m  \u001b[0;31m# already determined that the C code is done\u001b[0m\u001b[0;34m\u001b[0m\u001b[0m\n\u001b[1;32m   1071\u001b[0m             \u001b[0;32massert\u001b[0m \u001b[0mself\u001b[0m\u001b[0;34m.\u001b[0m\u001b[0m_is_stopped\u001b[0m\u001b[0;34m\u001b[0m\u001b[0m\n\u001b[0;32m-> 1072\u001b[0;31m         \u001b[0;32melif\u001b[0m \u001b[0mlock\u001b[0m\u001b[0;34m.\u001b[0m\u001b[0macquire\u001b[0m\u001b[0;34m(\u001b[0m\u001b[0mblock\u001b[0m\u001b[0;34m,\u001b[0m \u001b[0mtimeout\u001b[0m\u001b[0;34m)\u001b[0m\u001b[0;34m:\u001b[0m\u001b[0;34m\u001b[0m\u001b[0m\n\u001b[0m\u001b[1;32m   1073\u001b[0m             \u001b[0mlock\u001b[0m\u001b[0;34m.\u001b[0m\u001b[0mrelease\u001b[0m\u001b[0;34m(\u001b[0m\u001b[0;34m)\u001b[0m\u001b[0;34m\u001b[0m\u001b[0m\n\u001b[1;32m   1074\u001b[0m             \u001b[0mself\u001b[0m\u001b[0;34m.\u001b[0m\u001b[0m_stop\u001b[0m\u001b[0;34m(\u001b[0m\u001b[0;34m)\u001b[0m\u001b[0;34m\u001b[0m\u001b[0m\n",
      "\u001b[0;31mKeyboardInterrupt\u001b[0m: "
     ]
    },
    {
     "name": "stderr",
     "output_type": "stream",
     "text": [
      " 22% |###############                                                         |\r"
     ]
    }
   ],
   "source": [
    "# 2 by 2, otherwise, kernel dies ... \n",
    "\n",
    "attrs_1.start()\n",
    "attrs_2.start()\n",
    "attrs_1.join()\n",
    "attrs_2.join()\n",
    "\n",
    "attrs_3.start()\n",
    "attrs_4.start()\n",
    "attrs_3.join()\n",
    "attrs_4.join()\n",
    "\n",
    "attrs_5.start()\n",
    "attrs_6.start()\n",
    "attrs_5.join()\n",
    "attrs_6.join()\n",
    "\n",
    "attrs_7.start()\n",
    "attrs_6.start()\n",
    "attrs_7.join()\n",
    "attrs_8.join()\n",
    "\n",
    "attrs_9.start()\n",
    "attrs_10.start()\n",
    "attrs_9.join()\n",
    "attrs_10.join()\n",
    "\n",
    "\n",
    "attrs_1.start()\n",
    "attrs_2.start()\n",
    "attrs_1.join()\n",
    "attrs_2.join()\n",
    "\n",
    "attrs_3.start()\n",
    "attrs_4.start()\n",
    "attrs_3.join()\n",
    "attrs_4.join()\n",
    "\n",
    "attrs_5.start()\n",
    "attrs_6.start()\n",
    "attrs_5.join()\n",
    "attrs_6.join()\n",
    "\n",
    "attrs_7.start()\n",
    "attrs_6.start()\n",
    "attrs_7.join()\n",
    "attrs_8.join()\n",
    "\n",
    "attrs_9.start()\n",
    "attrs_10.start()\n",
    "attrs_9.join()\n",
    "attrs_10.join()\n"
   ]
  },
  {
   "cell_type": "code",
   "execution_count": null,
   "metadata": {
    "collapsed": true
   },
   "outputs": [],
   "source": []
  }
 ],
 "metadata": {
  "kernelspec": {
   "display_name": "Python 3",
   "language": "python",
   "name": "python3"
  },
  "language_info": {
   "codemirror_mode": {
    "name": "ipython",
    "version": 3
   },
   "file_extension": ".py",
   "mimetype": "text/x-python",
   "name": "python",
   "nbconvert_exporter": "python",
   "pygments_lexer": "ipython3",
   "version": "3.5.4"
  }
 },
 "nbformat": 4,
 "nbformat_minor": 2
}
