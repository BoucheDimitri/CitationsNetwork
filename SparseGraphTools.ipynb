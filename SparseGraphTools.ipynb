{
 "cells": [
  {
   "cell_type": "code",
   "execution_count": 1,
   "metadata": {
    "collapsed": true
   },
   "outputs": [],
   "source": [
    "import  networkx as nx\n",
    "import scipy\n",
    "import numpy as np"
   ]
  },
  {
   "cell_type": "code",
   "execution_count": null,
   "metadata": {
    "collapsed": true
   },
   "outputs": [],
   "source": [
    "def degree_as_scipy_sparse(nx_graph, deg_type=\"total\"):\n",
    "    \n",
    "    \"\"\"\n",
    "    Returns the degrees diagonal matrix as a scipy sparse diag matrix\n",
    "    \n",
    "    Params:\n",
    "        nx_graph (networkx.classes.digraph.DiGraph) : the graph\n",
    "        deg_type (str) : supported = (\"total\", \"in\", \"out\")\n",
    "    Returns:\n",
    "        scipy.sparse.dia_matrix : diagonal sparse matrix of degrees\n",
    "    \"\"\"\n",
    "    \n",
    "    if deg_type == \"in\":\n",
    "        deg_dict = dict(nx_graph.in_degree)\n",
    "    elif deg_type == \"out\":\n",
    "        deg_dict = dict(nx_graph.out_degree)\n",
    "    else : \n",
    "        deg_dict = dict(nx_graph.degree)\n",
    "    size = len(deg_dict)\n",
    "    diag = np.zeros((size, ))\n",
    "    for key in deg_dict.keys():\n",
    "        diag[key] = deg_dict[key]\n",
    "    diag_degrees = scipy.sparse.dia_matrix((diag, np.array([0])), shape=(size, size))\n",
    "    return diag_degrees"
   ]
  }
 ],
 "metadata": {
  "kernelspec": {
   "display_name": "Python 3",
   "language": "python",
   "name": "python3"
  },
  "language_info": {
   "codemirror_mode": {
    "name": "ipython",
    "version": 3
   },
   "file_extension": ".py",
   "mimetype": "text/x-python",
   "name": "python",
   "nbconvert_exporter": "python",
   "pygments_lexer": "ipython3",
   "version": "3.6.1"
  }
 },
 "nbformat": 4,
 "nbformat_minor": 1
}
