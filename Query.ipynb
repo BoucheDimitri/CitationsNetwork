{
 "cells": [
  {
   "cell_type": "code",
   "execution_count": 4,
   "metadata": {
    "collapsed": true
   },
   "outputs": [],
   "source": [
    "import pandas as pd\n",
    "\n",
    "from jyquickhelper import add_notebook_menu\n",
    "import os"
   ]
  },
  {
   "cell_type": "markdown",
   "metadata": {},
   "source": [
    "# Query "
   ]
  },
  {
   "cell_type": "code",
   "execution_count": 23,
   "metadata": {},
   "outputs": [],
   "source": [
    "path= os.path.join(os.getcwd(),\"Tables\")\n",
    "auth_coresp=pd.read_csv(path + \"/authors_bis.csv\", encoding = \"ISO-8859-1\")\n",
    "auth_coresp_old=pd.read_csv(path + \"/authors.csv\", encoding = \"ISO-8859-1\")"
   ]
  },
  {
   "cell_type": "code",
   "execution_count": 28,
   "metadata": {
    "collapsed": true
   },
   "outputs": [],
   "source": [
    "def search_Auth(auth_name):\n",
    "    query_auth=auth_coresp.index[auth_coresp.uniformat.str.contains(auth_name)]\n",
    "    print(\"New: \\n\")\n",
    "    for i in query_auth:\n",
    "        print(auth_coresp.uniformat[i])\n",
    "    query_auth_old=auth_coresp_old.index[auth_coresp_old.uniformat.str.contains(auth_name)]\n",
    "    print(\"\\n Old: \\n\")\n",
    "    for i in query_auth_old:\n",
    "        print(auth_coresp_old.uniformat[i])"
   ]
  },
  {
   "cell_type": "code",
   "execution_count": 30,
   "metadata": {},
   "outputs": [
    {
     "name": "stdout",
     "output_type": "stream",
     "text": [
      "New: \n",
      "\n",
      "Roland Benabou and Jean Tirole\n",
      "Jean Tirole\n",
      "\n",
      " Old: \n",
      "\n",
      "J. Tirole\n",
      "Jean Tirole\n",
      "Roland Benabou and Jean Tirole\n"
     ]
    }
   ],
   "source": [
    "search_Auth(\"Tirole\")"
   ]
  },
  {
   "cell_type": "code",
   "execution_count": null,
   "metadata": {
    "collapsed": true
   },
   "outputs": [],
   "source": []
  }
 ],
 "metadata": {
  "kernelspec": {
   "display_name": "Python 3",
   "language": "python",
   "name": "python3"
  },
  "language_info": {
   "codemirror_mode": {
    "name": "ipython",
    "version": 3
   },
   "file_extension": ".py",
   "mimetype": "text/x-python",
   "name": "python",
   "nbconvert_exporter": "python",
   "pygments_lexer": "ipython3",
   "version": "3.6.1"
  }
 },
 "nbformat": 4,
 "nbformat_minor": 2
}
